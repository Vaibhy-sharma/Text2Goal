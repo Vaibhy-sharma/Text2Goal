{
 "cells": [
  {
   "cell_type": "code",
   "execution_count": 1,
   "id": "283dff03",
   "metadata": {},
   "outputs": [],
   "source": [
    "import tabula\n",
    "import pdfplumber\n",
    "import pandas as pd\n",
    "import nltk\n",
    "from nltk import word_tokenize\n",
    "import re\n",
    "from gensim.parsing.preprocessing import remove_stopwords\n",
    "from service import Service\n",
    "import docx"
   ]
  },
  {
   "cell_type": "markdown",
   "id": "c7882651",
   "metadata": {},
   "source": [
    "### Reading Tables from service catalogues"
   ]
  },
  {
   "cell_type": "code",
   "execution_count": 2,
   "id": "adbe602d",
   "metadata": {},
   "outputs": [
    {
     "data": {
      "text/plain": [
       "<pdfplumber.pdf.PDF at 0x2073f42cbc8>"
      ]
     },
     "execution_count": 2,
     "metadata": {},
     "output_type": "execute_result"
    }
   ],
   "source": [
    "pdf = pdfplumber.open(r\"Service Catalogues\\SQ15-000107_A (4).pdf\")\n",
    "pdf"
   ]
  },
  {
   "cell_type": "code",
   "execution_count": 3,
   "id": "9ab8baeb",
   "metadata": {},
   "outputs": [],
   "source": [
    "def extract_all_tables(pdf):\n",
    "    \n",
    "    dictionary_of_tables = {} \n",
    "    for i in range(len(pdf.pages)):\n",
    "        page = pdf.pages[i]\n",
    "        for table in page.extract_tables():\n",
    "            dictionary_of_tables['table'+str(i)] = pd.DataFrame(table[1:],columns=table[0],index=None)\n",
    "    \n",
    "    return dictionary_of_tables"
   ]
  },
  {
   "cell_type": "code",
   "execution_count": 46,
   "id": "28128e89",
   "metadata": {},
   "outputs": [
    {
     "data": {
      "text/plain": [
       "{'table4':                                              Service  \\\n",
       " 0  Australian \\nGovernment \\nDisaster Recovery \\n...   \n",
       " 1             Business Continuity \\nPlan Development   \n",
       " 2                      Business Continuity \\nTesting   \n",
       " 3                      Business Criticality \\nReview   \n",
       " 4               Business Impact \\nAnalysis workshops   \n",
       " 5                Monitoring \\nbusiness \\ndisruptions   \n",
       " 6                                            Whispir   \n",
       " \n",
       "                                          Description  \\\n",
       " 0  Represent partner departments on or provide as...   \n",
       " 1  Provide assistance to customers to develop bus...   \n",
       " 2  Develop and facilitate business continuity sce...   \n",
       " 3  Review of critical activities by assessing the...   \n",
       " 4  Conduct workshops to identify critical busines...   \n",
       " 5  Provides a central point for the coordination ...   \n",
       " 6  Whispir is an online communications tool utili...   \n",
       " \n",
       "                         Service Level  \n",
       " 0            As agreed with customer.  \n",
       " 1            As agreed with customer.  \n",
       " 2            As agreed with customer.  \n",
       " 3            As agreed with customer.  \n",
       " 4            As agreed with customer.  \n",
       " 5            As agreed with customer.  \n",
       " 6  As per operational \\nrequirements.  ,\n",
       " 'table5':                                              Service  \\\n",
       " 0  Emergency Control \\nOrganisation (ECO) \\n- man...   \n",
       " 1  Emergency Control \\nOrganisation (ECO) \\n- sup...   \n",
       " 2  Emergency Control \\nOrganisation (ECO) \\n- tra...   \n",
       " 3                               Emergency \\nPlanning   \n",
       " \n",
       "                                          Description             Service Level  \n",
       " 0  Monitor requirements of ECO membership, includ...  As agreed with customer.  \n",
       " 1  Ensure evacuation diagrams are correctly displ...  As agreed with customer.  \n",
       " 2  Arrange training for ECO including coordinatio...  As agreed with customer.  \n",
       " 3  Ensure Emergency procedures and assembly areas...  As agreed with customer.  ,\n",
       " 'table6':                            Service  \\\n",
       " 0  External Fraud \\ninvestigations   \n",
       " 1  Internal Fraud \\ninvestigations   \n",
       " 2              Pre-referral advice   \n",
       " \n",
       "                                          Description  \\\n",
       " 0  Conduct of external fraud investigations to th...   \n",
       " 1  Conduct of internal fraud investigations to th...   \n",
       " 2  The provision of pre-referral advice to assist...   \n",
       " \n",
       "                                        Service Level  \n",
       " 0        Dependent on complexity of \\ninvestigation.  \n",
       " 1        Dependent on complexity of \\ninvestigation.  \n",
       " 2  Assessment of fraud referrals \\nwithin 20 busi...  ,\n",
       " 'table8':                                              Service  \\\n",
       " 0                         Fraud Awareness \\nTraining   \n",
       " 1                           Fraud Control \\nPlanning   \n",
       " 2  Reporting and \\nPolicy Advice  \\nPartner \\ndep...   \n",
       " \n",
       "                                          Description  \\\n",
       " 0  Provision of fraud awareness eLearning session...   \n",
       " 1  The Fraud Control Plan establishes the framewo...   \n",
       " 2  Provision of Commonwealth fraud reporting, rep...   \n",
       " \n",
       "                                        Service Level  \n",
       " 0  In accordance with mandatory \\nCommonwealth re...  \n",
       " 1  In accordance with mandatory \\nCommonwealth re...  \n",
       " 2  Commonwealth fraud \\nreporting to comply with ...  ,\n",
       " 'table9':                           Service  \\\n",
       " 0  Audio and Video \\nConferencing   \n",
       " 1    Desktop Video \\nConferencing   \n",
       " 2       Desktop Video \\nStreaming   \n",
       " 3                    Telepresence   \n",
       " 4                    Video Portal   \n",
       " \n",
       "                                          Description  \\\n",
       " 0  Provision of video and audio conferencing capa...   \n",
       " 1  Provides ability to host conferences at your d...   \n",
       " 2  Provision of video streaming of multiple TV ch...   \n",
       " 3  Provision of Secure video conferencing system ...   \n",
       " 4  Provides on-demand versions of events recorded...   \n",
       " \n",
       "                                       Service Level  \n",
       " 0  Within 2 working \\ndays of receipt of \\nrequest.  \n",
       " 1  Within 2 working \\ndays of receipt of \\nrequest.  \n",
       " 2  Within 2 working \\ndays of receipt of \\nrequest.  \n",
       " 3  Within 2 working \\ndays of receipt of \\nrequest.  \n",
       " 4  Within 2 working \\ndays of receipt of \\nrequest.  ,\n",
       " 'table10':                              Service  \\\n",
       " 0      After-hours \\nbuilding access   \n",
       " 1                    Basement Access   \n",
       " 2         Building Access - \\npasses   \n",
       " 3  Building Access for \\ncontractors   \n",
       " 4  Modification of \\nBuilding Access   \n",
       " 5           Restricted Area \\naccess   \n",
       " \n",
       "                                          Description  \\\n",
       " 0  Provision of after-hours building access for l...   \n",
       " 1  Provision of basement access for the purposes ...   \n",
       " 2  Provision and management of security passes to...   \n",
       " 3  Provision of a building access pass for contra...   \n",
       " 4  Modification of building access privileges app...   \n",
       " 5           Provision of access to restricted areas.   \n",
       " \n",
       "                                       Service Level  \n",
       " 0  Within 3 working \\ndays of receipt of \\nrequest.  \n",
       " 1  Within 3 working \\ndays of receipt of \\nrequest.  \n",
       " 2  Within 3 working \\ndays of receipt of \\nrequest.  \n",
       " 3  Within 3 working \\ndays of receipt of \\nrequest.  \n",
       " 4  Within 3 working \\ndays of receipt of \\nrequest.  \n",
       " 5  Within 3 working \\ndays of receipt of \\nrequest.  ,\n",
       " 'table11':                           Service  \\\n",
       " 0        Assistive \\nTechnologies   \n",
       " 1  Conference and \\nEvent Support   \n",
       " 2                 Desktop Support   \n",
       " 3           New Office \\nComputer   \n",
       " 4        Office in a Box \\n(oBox)   \n",
       " \n",
       "                                          Description  \\\n",
       " 0  Provision of assistive technologies to fulfil ...   \n",
       " 1  The provision of onsite support and assistance...   \n",
       " 2  Provision of general day to day second level d...   \n",
       " 3      Provision and setup of a new office computer.   \n",
       " 4  Provision of a transportable office designed f...   \n",
       " \n",
       "                                        Service Level  \n",
       " 0  75% of requests \\nprocessed within 3 \\nworking...  \n",
       " 1                         As agreed with \\ncustomer.  \n",
       " 2  75% of requests \\nprocessed within 3 \\nworking...  \n",
       " 3  75% of requests \\nprocessed within 3 \\nworking...  \n",
       " 4                         As agreed with \\ncustomer.  ,\n",
       " 'table12':                                         Service  \\\n",
       " 0  Office Machines \\n(Multi-function \\ndevices)   \n",
       " 1                               Premier Support   \n",
       " 2                   Short Term Loan \\nEquipment   \n",
       " \n",
       "                                          Description  \\\n",
       " 0  Provision, maintenance and replacement of offi...   \n",
       " 1  Provision of a flexible 24 x 7 IT support serv...   \n",
       " 2  Provision of short term loan of a variety of I...   \n",
       " \n",
       "                                        Service Level  \n",
       " 0  As per the Office \\nMachine Policy. 75% of \\nr...  \n",
       " 1  Requests are picked up \\nwithin two hours and ...  \n",
       " 2  75% of requests \\nprocessed within 3 \\nworking...  ,\n",
       " 'table13':                        Service  \\\n",
       " 0  Contact Centre \\nManagement   \n",
       " 1       White Pages \\nListings   \n",
       " \n",
       "                                          Description  \\\n",
       " 0  Management of Contact Centre services. Service...   \n",
       " 1  Manage the process for listing customer’s deta...   \n",
       " \n",
       "                                     Service Level  \n",
       " 0         As agreed in contract \\nservice levels.  \n",
       " 1  In accordance with \\nWhite Pages \\ntimeframes.  ,\n",
       " 'table14':                              Service  \\\n",
       " 0                Good for Enterprise   \n",
       " 1  International \\nRoaming Solutions   \n",
       " 2    Mobile Phones and \\nSmartphones   \n",
       " 3      Wireless \\nBroadband Services   \n",
       " \n",
       "                                          Description  \\\n",
       " 0  Provision of access to corporate email, calend...   \n",
       " 1  Provision of international data and voice roam...   \n",
       " 2  Provision of mobile telephony device for work ...   \n",
       " 3  Provision and support of wireless broadband de...   \n",
       " \n",
       "                                        Service Level  \n",
       " 0  75% of requests \\nprocessed within 10 \\nworkin...  \n",
       " 1  75% of requests \\nprocessed within 3 \\nworking...  \n",
       " 2  75% of requests \\nprocessed within 3 \\nworking...  \n",
       " 3  75% of requests \\nprocessed within 3 \\nworking...  ,\n",
       " 'table15':      Service                                        Description  \\\n",
       " 0  XenMobile  Provision of access to corporate email, calend...   \n",
       " \n",
       "                                        Service Level  \n",
       " 0  75% of requests \\nprocessed within 10 \\nworkin...  ,\n",
       " 'table16':             Service                                        Description  \\\n",
       " 0  Customer Service  Providing first point of contact for access, r...   \n",
       " 1     Staff Notices  Communicate information to customers about ser...   \n",
       " 2       Switchboard  Receives phone calls and directs enquires to r...   \n",
       " \n",
       "                                        Service Level  \n",
       " 0  70% of calls answered \\nwithin 30 seconds. \\n8...  \n",
       " 1                   Actioned within 1 \\nworking day.  \n",
       " 2  70% of calls answered \\nwithin 30 seconds. \\n8...  ,\n",
       " 'table18':                              Service  \\\n",
       " 0             Call Forward \\nRequest   \n",
       " 1     Call Pickup Group \\n(hotlines)   \n",
       " 2                        Desk Phones   \n",
       " 3  International Direct \\nDial (IDD)   \n",
       " 4         Secondary \\nTelephone Line   \n",
       " 5          Speed Dial \\nModification   \n",
       " \n",
       "                                          Description           Service Level  \n",
       " 0  Provides setup, modification or removal of cal...  Within 3 working days.  \n",
       " 1  Provides setup, modification or removal of cal...  Within 3 working days.  \n",
       " 2          Provision and installation of desk phones  Within 3 working days.  \n",
       " 3  Provides setup, modification or removal of acc...  Within 3 working days.  \n",
       " 4  Provision of an additional telephone line and ...  Within 3 working days.  \n",
       " 5  Updates speed dials on expansion module teleph...  Within 3 working days.  ,\n",
       " 'table19':                              Service  \\\n",
       " 0            Audiovisual Productions   \n",
       " 1  Live Event \\nShoot/Stream/Webcast   \n",
       " 2  On-demand \\nvideo/webcast hosting   \n",
       " 3                 Theatre Hire/Usage   \n",
       " \n",
       "                                          Description  \\\n",
       " 0  Provision of audio visual productions in the 5...   \n",
       " 1  Provision of live event shoots to an agreed st...   \n",
       " 2  Provision of new on-demand videos and webcasts...   \n",
       " 3  Provision of 50 Marcus Clarke St Theatre as a ...   \n",
       " \n",
       "                                        Service Level  \n",
       " 0  Customer contacted within \\n1 working day to d...  \n",
       " 1  Customer contacted within \\n1 working day to d...  \n",
       " 2  Customer contacted within \\n1 working day to d...  \n",
       " 3  Customer contacted within \\n1 working day to d...  ,\n",
       " 'table20':                                              Service  \\\n",
       " 0  Brand solutions, \\nstyle guides and \\nadvice o...   \n",
       " 1  Develop creative \\nadvertising \\ncampaign mate...   \n",
       " 2                                     Graphic Design   \n",
       " 3                       Print Management \\nSolutions   \n",
       " 4                Visual Identity and \\nLogo Creation   \n",
       " \n",
       "                                          Description  \\\n",
       " 0  Develop branding solutions and style guides if...   \n",
       " 1  Manage conceptualisation and presentation for ...   \n",
       " 2  Conceptualisation and preparation of targeted ...   \n",
       " 3  Provide print management services including lo...   \n",
       " 4  Create visual identities and logos with collab...   \n",
       " \n",
       "                                        Service Level  \n",
       " 0  Customer contacted within \\n1 working day to d...  \n",
       " 1  Customer contacted within \\n1 working day to d...  \n",
       " 2  Customer contacted within \\n1 working day to d...  \n",
       " 3  Customer contacted within \\n1 working day to d...  \n",
       " 4  Customer contacted within \\n1 working day to d...  ,\n",
       " 'table22':                           Service  \\\n",
       " 0         Governance and \\nPolicy   \n",
       " 1  Training, advice \\nand support   \n",
       " \n",
       "                                          Description  \\\n",
       " 0  Provision of governance and policy frameworks ...   \n",
       " 1  Provide advice and support around platforms, p...   \n",
       " \n",
       "                                        Service Level  \n",
       " 0  Customer contacted within \\n1 working day to d...  \n",
       " 1  Customer contacted within \\n1 working day to d...  ,\n",
       " 'table23':                                              Service  \\\n",
       " 0                             Cloud \\nInfrastructure   \n",
       " 1                                        Development   \n",
       " 2  Information \\nArchitecture and \\nInformation D...   \n",
       " 3                                  Web Accessibility   \n",
       " 4                           Web Content \\nManagement   \n",
       " 5                                         Web Design   \n",
       " \n",
       "                                          Description  \\\n",
       " 0  Linux based cloud hosting environment for webs...   \n",
       " 1  Development of accessible, responsive design p...   \n",
       " 2  Information architecture (information structur...   \n",
       " 3  Practical advice, support and training in digi...   \n",
       " 4  Content support, advice and training for both ...   \n",
       " 5  Design of websites and digital products for al...   \n",
       " \n",
       "                                        Service Level  \n",
       " 0  In accordance with specific \\nservice level ag...  \n",
       " 1                   As per agreement and \\nschedule.  \n",
       " 2                   As per agreement and \\nschedule.  \n",
       " 3  Customer contacted within \\n2 working days to ...  \n",
       " 4  Customer contacted within \\n2 working days to ...  \n",
       " 5                   As per agreement and \\nschedule.  ,\n",
       " 'table24':                              Service  \\\n",
       " 0  Accounts \\nPayable - \\nProcessing   \n",
       " 1          Accounts \\nReconciliation   \n",
       " 2           Master Data \\nManagement   \n",
       " 3                             Payrun   \n",
       " 4                          Reporting   \n",
       " \n",
       "                                          Description  \\\n",
       " 0  Processing of both direct invoices and purchas...   \n",
       " 1      Undertake monthly reconciliation of accounts.   \n",
       " 2  Creation, variation and mark for deletion func...   \n",
       " 3  Undertake payruns including generation, transm...   \n",
       " 4  Reporting for Senate Estimates HIB’s and BPB’s...   \n",
       " \n",
       "                                        Service Level  \n",
       " 0  Process 98% of all AP invoice \\nrequests withi...  \n",
       " 1  Reconciliation of all accounts \\nby the 15th o...  \n",
       " 2  95% of all vendor master \\ndata requests proce...  \n",
       " 3  Payruns run each working \\nday. \\nRejected pay...  \n",
       " 4                           As agreed with customer.  ,\n",
       " 'table25':                                 Service  \\\n",
       " 0  Accounts \\nReceivable - \\nProcessing   \n",
       " 1              Account \\nReconciliation   \n",
       " 2              Master Data \\nManagement   \n",
       " 3                            Receipting   \n",
       " \n",
       "                                          Description  \\\n",
       " 0  Processing of all requests to raise debts and ...   \n",
       " 1      Undertake monthly reconciliation of accounts.   \n",
       " 2  Creation, variation and mark for deletion func...   \n",
       " 3  Receipt all incoming payments including cash, ...   \n",
       " \n",
       "                                        Service Level  \n",
       " 0  98% of all AR invoice requests \\nwithin 2 work...  \n",
       " 1  Reconciliation of all accounts \\nby the 15th o...  \n",
       " 2  95% of all customer master \\ndata requests pro...  \n",
       " 3  Receipting of vendor \\npayment within 2 workin...  ,\n",
       " 'table26':                                              Service  \\\n",
       " 0                                     Asset Creation   \n",
       " 1                                    Asset Disposals   \n",
       " 2                     Asset Ledger \\nReconciliations   \n",
       " 3                                   Asset Monitoring   \n",
       " 4                            Asset Movement \\nTables   \n",
       " 5                         Asset Project \\nAccounting   \n",
       " 6                       Asset Register \\nMaintenance   \n",
       " 7                                      Asset Reports   \n",
       " 8                                         Stocktakes   \n",
       " 9  Valuations, \\nUseful Lives and \\nImpairment \\n...   \n",
       " \n",
       "                                          Description  \\\n",
       " 0  Creation of assets in Connect and the allocati...   \n",
       " 1  Provide advice to business areas on appropriat...   \n",
       " 2  Reconciliation of the asset registers held by ...   \n",
       " 3                 Monitor Assets under construction.   \n",
       " 4  Provision of monthly asset movement tables to ...   \n",
       " 5  Record assets created by approved IT Investmen...   \n",
       " 6  Maintenance of asset registers includes proces...   \n",
       " 7  Provide monthly and annual assets movement tab...   \n",
       " 8  Undertake an annual stocktake of assets to ens...   \n",
       " 9  Reviews of asset useful lives and values to en...   \n",
       " \n",
       "                                        Service Level  \n",
       " 0  Connect Asset shell created \\nwithin 2 working...  \n",
       " 1  Respond to requests for \\nadvice within 2 work...  \n",
       " 2  Within 15 days of the end of \\nthe period exce...  \n",
       " 3                           As agreed with customer.  \n",
       " 4  Within 6 working days of the \\nend of the peri...  \n",
       " 5                           As agreed with customer.  \n",
       " 6                           Dependent on complexity.  \n",
       " 7           Adhoc reports as required by \\ncustomer.  \n",
       " 8                           As agreed with customer.  \n",
       " 9                           As agreed with customer.  ,\n",
       " 'table28':                      Service  \\\n",
       " 0  Accounts \\nReconciliation   \n",
       " 1                 Acquittals   \n",
       " 2                     Advice   \n",
       " 3               Credit Cards   \n",
       " 4     Lost or Stolen \\nCards   \n",
       " 5                  Reporting   \n",
       " \n",
       "                                          Description  \\\n",
       " 0      Undertake monthly reconciliation of accounts.   \n",
       " 1  Acquittals are required monthly for the previo...   \n",
       " 2  Advice on credit card policy, authorised and u...   \n",
       " 3  Provision of cards for use in accordance with ...   \n",
       " 4  Provision of timely cancellation of lost or st...   \n",
       " 5  Reporting for Senate Estimates HIB’s and BPB’s...   \n",
       " \n",
       "                                        Service Level  \n",
       " 0  Reconciliation of all accounts \\nby the 15th o...  \n",
       " 1  On time payment of all credit \\ncard monthly a...  \n",
       " 2  Within 2 hours for critical and \\none working ...  \n",
       " 3  Ordering of new credit cards \\nor changes to c...  \n",
       " 4              Cancellation within 1 working \\nhour.  \n",
       " 5                           As agreed with customer.  ,\n",
       " 'table29':                    Service                                        Description  \\\n",
       " 0                   Advice  Specialist advice on corporate structures, gov...   \n",
       " 1  Credential \\nAssessment  Verification of legal existence and ownership ...   \n",
       " 2   Financial \\nAssessment  Full financial assessment service to provide r...   \n",
       " 3               Monitoring  Ongoing monitoring of entities currently deliv...   \n",
       " 4       Panel \\nManagement  Management of the Commercial Information Repor...   \n",
       " \n",
       "                                        Service Level  \n",
       " 0  Basic phone advice same day, \\ncomplex advice ...  \n",
       " 1  Ad Hoc assessments within 5 \\nworking days. \\n...  \n",
       " 2  Ad Hoc assessments within 5 \\nworking days. \\n...  \n",
       " 3                            Within 15 working days.  \n",
       " 4       Access to the panel within 5 \\nworking days.  ,\n",
       " 'table30':                         Service  \\\n",
       " 0            Advice - \\nGeneral   \n",
       " 1         Advice - \\nSpecialist   \n",
       " 2         Procurement \\nprocess   \n",
       " 3  Reporting and \\ncoordination   \n",
       " 4                 Tender Design   \n",
       " 5   User and \\nSystem \\nSupport   \n",
       " \n",
       "                                          Description  \\\n",
       " 0  Advice on basic interpretation of the Commonwe...   \n",
       " 1  Assistance includes all aspects of procurement...   \n",
       " 2  Undertake procurement process - either complet...   \n",
       " 3  Providing reports as required for annual repor...   \n",
       " 4  Provide information on strategy, processes, to...   \n",
       " 5  Advice on using Connect procurement module. Qu...   \n",
       " \n",
       "                                        Service Level  \n",
       " 0                           98% Within 1 working day  \n",
       " 1                          90% Within 3 working days  \n",
       " 2                           As agreed with customer.  \n",
       " 3  As required by Parliament or \\nother pre-estab...  \n",
       " 4                           As agreed with customer.  \n",
       " 5                          98% Within 1 working day.  ,\n",
       " 'table31':                     Service  \\\n",
       " 0  Account \\nReconciliation   \n",
       " 1            BAS Submission   \n",
       " 2              FBT Accruals   \n",
       " 3  FBT and GST \\nManagement   \n",
       " \n",
       "                                          Description  \\\n",
       " 0      Undertake monthly reconciliation of accounts.   \n",
       " 1               Monthly submission of BAS to the ATO   \n",
       " 2                Preparation of monthly FBT accruals   \n",
       " 3  FBT is undertaken 3 times per year for the per...   \n",
       " \n",
       "                                        Service Level  \n",
       " 0             Completed by the 15th of \\neach month.  \n",
       " 1  Lodgement with the ATO by \\n15th of the next m...  \n",
       " 2   Within 2 working days of the \\nend of the month.  \n",
       " 3  Provision of workbooks to \\nGAU’s for completi...  ,\n",
       " 'table32':                   Service                                        Description  \\\n",
       " 0                  Advice  Advice on domestic and international travel po...   \n",
       " 1   Contract \\nManagement  Contract management of flight, accommodation a...   \n",
       " 2  International \\nTravel  Manage passport acquisition, maintenance, rene...   \n",
       " 3               Reporting  Reporting for Senate Estimates HIB’s and BPB’s...   \n",
       " \n",
       "                                        Service Level  \n",
       " 0  Provide general advice on \\ntravel issues with...  \n",
       " 1   Self-service through \\nexternally hosted portal.  \n",
       " 2  Passports within 5 working \\ndays. \\nVisas wit...  \n",
       " 3                           As agreed with customer.  ,\n",
       " 'table33':                          Service  \\\n",
       " 0       Account \\nReconciliation   \n",
       " 1      Bank Account \\nManagement   \n",
       " 2  Bank Account \\nReconciliation   \n",
       " 3               Funds \\nDrawdown   \n",
       " \n",
       "                                          Description  \\\n",
       " 0      Undertake monthly reconciliation of accounts.   \n",
       " 1  Open and close RBA bank accounts, load daily b...   \n",
       " 2  Undertake monthly reconciliation of all bank a...   \n",
       " 3     Daily drawdown of funds to match payment runs.   \n",
       " \n",
       "                                        Service Level  \n",
       " 0       Reconciliation of all GL \\naccounts monthly.  \n",
       " 1  Bank accounts opened or \\nclosed within 3 work...  \n",
       " 2  Reconciliation of all bank \\naccounts by the 1...  \n",
       " 3  Funds drawn down to match \\nout-going pay run ...  ,\n",
       " 'table34':                           Service  \\\n",
       " 0                  Administration   \n",
       " 1  Cadet and Supervisor \\nSupport   \n",
       " 2                     Recruitment   \n",
       " \n",
       "                                          Description  \\\n",
       " 0  Administration of APS Indigenous cadets whilst...   \n",
       " 1  Provision of support to cadets and supervisors...   \n",
       " 2  Liaise with the APSC and customer for the enga...   \n",
       " \n",
       "                                        Service Level  \n",
       " 0                           As agreed with customer.  \n",
       " 1  Customer contacted within 3 \\nworking days to ...  \n",
       " 2  Customer contacted within 3 \\nworking days to ...  ,\n",
       " 'table35':                     Service  \\\n",
       " 0          Event Management   \n",
       " 1                 Marketing   \n",
       " 2  Participant \\nManagement   \n",
       " 3    Programme \\nManagement   \n",
       " 4               Recruitment   \n",
       " 5                 Reporting   \n",
       " \n",
       "                                          Description  \\\n",
       " 0  Arrangement of all logistical details of Signi...   \n",
       " 1  Research and design of advertising to be used ...   \n",
       " 2  Manage participants training, care and placeme...   \n",
       " 3  Management and continuous improvement of the I...   \n",
       " 4  Design, implement and evaluate the recruitment...   \n",
       " 5  Provide IAGDP information for publications inc...   \n",
       " \n",
       "                                        Service Level  \n",
       " 0                         As agreed in project plan.  \n",
       " 1  Strategy delivered within \\nagreed timeframe a...  \n",
       " 2                           As agreed with customer.  \n",
       " 3        All contact actioned with 3 \\nworking days.  \n",
       " 4  Customer contacted within 3 \\nworking days to ...  \n",
       " 5  Commencement / \\ncompletion statistics to \\nex...  ,\n",
       " 'table36':                                            Service  \\\n",
       " 0                    eLearning Advisory \\nServices   \n",
       " 1                  eLearning Capability \\nTraining   \n",
       " 2                   eLearning Procurement \\nAdvice   \n",
       " 3             Infographics (on-screen \\nand print)   \n",
       " 4                                Interactive Tools   \n",
       " 5                          L&D Alert & iLS eMailer   \n",
       " 6              Learning Management \\nSystems (LMS)   \n",
       " 7   Online Training Modules \\n(eLearning programs)   \n",
       " 8                        Smartphone \\nApplications   \n",
       " 9                Training Videos and \\nSimulations   \n",
       " 10                                   Usability Lab   \n",
       " \n",
       "                                           Description  \\\n",
       " 0   Advice to customers on development of Interact...   \n",
       " 1   Providing training in the design, development ...   \n",
       " 2   Advice on the procurement of eLearning solutio...   \n",
       " 3   Infographics to take information and present i...   \n",
       " 4   A range of interactive tools to meet a trainin...   \n",
       " 5   Monthly L&D update on available products launc...   \n",
       " 6   Learning Management System (LMS) provides an i...   \n",
       " 7   Interactive eLearning programs enable a user t...   \n",
       " 8   Mobile learning applications for Apple and And...   \n",
       " 9   Training videos on any required topic. These v...   \n",
       " 10  Provision of Usability Lab containing speciali...   \n",
       " \n",
       "                Service Level  \n",
       " 0   As agreed with customer.  \n",
       " 1   As agreed with customer.  \n",
       " 2   As agreed with customer.  \n",
       " 3   As agreed with customer.  \n",
       " 4   As agreed with customer.  \n",
       " 5   As agreed with customer.  \n",
       " 6   As agreed with customer.  \n",
       " 7   As agreed with customer.  \n",
       " 8   As agreed with customer.  \n",
       " 9   As agreed with customer.  \n",
       " 10  As agreed with customer.  ,\n",
       " 'table37':                          Service  \\\n",
       " 0             Advice and Support   \n",
       " 1                   Entitlements   \n",
       " 2  Manage and Maintain \\nHR data   \n",
       " 3            Overseas Management   \n",
       " 4    People Portal \\nMaintenance   \n",
       " 5    Remuneration \\nOverpayments   \n",
       " \n",
       "                                          Description  \\\n",
       " 0  Assist all staff on Recruitment services, Pay ...   \n",
       " 1  Covers all activities associated with employee...   \n",
       " 2  Manage and maintain the customers HR records a...   \n",
       " 3  Overseas Management provides advice and suppor...   \n",
       " 4  Management of relevant information on the Peop...   \n",
       " 5  Calculate, provide advice and negotiate recove...   \n",
       " \n",
       "                                        Service Level  \n",
       " 0  Customer contacted within 3 \\nworking days to ...  \n",
       " 1         Changes processed within 5 \\nworking days.  \n",
       " 2         Changes processed within 5 \\nworking days.  \n",
       " 3  Requests for advice and \\nsupport answered wit...  \n",
       " 4                          Updates done fortnightly.  \n",
       " 5  Overpayments are calculated, \\nchecked and Emp...  ,\n",
       " 'table38':                   Service                                        Description  \\\n",
       " 0  Establishment Services  Establishment Services creates and manages the...   \n",
       " 1      Payroll Activities  All activities associated with running the for...   \n",
       " 2               Reporting  Internal and external reporting on regular and...   \n",
       " 3     Salary Advancements  Processing of ad-hoc employee salary advanceme...   \n",
       " 4        Salary Packaging  Process salary packaging adjustments on provis...   \n",
       " \n",
       "                                        Service Level  \n",
       " 0  Establishment services within \\n3 working days...  \n",
       " 1  All staff paid in an accurate \\nand timely man...  \n",
       " 2                           As agreed with customer.  \n",
       " 3                           As agreed with customer.  \n",
       " 4                           As agreed with customer.  ,\n",
       " 'table39':                                              Service  \\\n",
       " 0                                 Advice and Support   \n",
       " 1                                   Delegate Service   \n",
       " 2  Recruitment Non-\\nongoing Employees and \\nTran...   \n",
       " 3                  Recruitment \\nOperational Support   \n",
       " 4                              Recruitment Reporting   \n",
       " 5          Recruitment System \\n(NGA.net) Management   \n",
       " 6                     Strategic Recruitment \\nDesign   \n",
       " \n",
       "                                          Description  \\\n",
       " 0  Advice and support to employers and employees ...   \n",
       " 1  Advice and support throughout the process to m...   \n",
       " 2  Support the customer agencies to administer th...   \n",
       " 3  Support for entry level and general (both inte...   \n",
       " 4  Design, development and distribution of report...   \n",
       " 5  Provision of a recruitment system to manage th...   \n",
       " 6  Develop and design campaign and non-campaign r...   \n",
       " \n",
       "                                        Service Level  \n",
       " 0  Customer contacted within 3 \\nworking days to ...  \n",
       " 1    Actions completed within \\npolicy requirements.  \n",
       " 2  New starters commenced on \\npayroll system wit...  \n",
       " 3  New starters commenced on \\npayroll system wit...  \n",
       " 4  Customer contacted within 3 \\nworking days to ...  \n",
       " 5  Requests for technical \\nassistance within 1 w...  \n",
       " 6                           As agreed with customer.  ,\n",
       " 'table40':                                         Service  \\\n",
       " 0          Development and \\nProduction Support   \n",
       " 1  Reporting, Research, \\nand Business Analysis   \n",
       " 2                            Scoping Assistance   \n",
       " \n",
       "                                          Description  \\\n",
       " 0  Providing Level 2 support and training support...   \n",
       " 1  Direct support for some business areas in thei...   \n",
       " 2  Support to business areas to scope potential a...   \n",
       " \n",
       "                                        Service Level  \n",
       " 0  Support and training as \\nagreed with customer...  \n",
       " 1  Simple requests actioned \\nwithin 2 working da...  \n",
       " 2  Simple requests actioned \\nwithin 2 working da...  ,\n",
       " 'table41':                              Service  \\\n",
       " 0           Acquisition \\nManagement   \n",
       " 1                  Electronic Alerts   \n",
       " 2                              ISBNs   \n",
       " 3      Library Advice & \\nAssistance   \n",
       " 4                 Library Collection   \n",
       " 5                               None   \n",
       " 6                               None   \n",
       " 7   Library Collection & \\nResources   \n",
       " 8                   Library Intranet   \n",
       " 9       Management of ABS \\ndatasets   \n",
       " 10      Management of DSS \\ndatasets   \n",
       " 11            Reference and Research   \n",
       " 12                Training - Library   \n",
       " \n",
       "                                           Description  \\\n",
       " 0   To ensure the viability of the collection over...   \n",
       " 1   Provide alert service on topics of interest. T...   \n",
       " 2           Manage ISBNs for customer’s publications.   \n",
       " 3   Provide advice & assistance with library resou...   \n",
       " 4                                                       \n",
       " 5                                                None   \n",
       " 6                                                None   \n",
       " 7   Include customer initiated acquisition of the ...   \n",
       " 8   Provision of library information on Intranet p...   \n",
       " 9   Management of Australian Bureau of Statistics’...   \n",
       " 10  Manage the acquisition and access to DSS Longi...   \n",
       " 11  Provide comprehensive reference and research s...   \n",
       " 12  Training on library services & resources and r...   \n",
       " \n",
       "                                                   NaN  \\\n",
       " 0                                                None   \n",
       " 1                                                None   \n",
       " 2                                                None   \n",
       " 3                                                None   \n",
       " 4   In consultation with relevant customer provide...   \n",
       " 5   library collection. Loans and document deliver...   \n",
       " 6                                    external source.   \n",
       " 7                                                None   \n",
       " 8                                                None   \n",
       " 9                                                None   \n",
       " 10                                               None   \n",
       " 11                                               None   \n",
       " 12                                               None   \n",
       " \n",
       "                                         Service Level  \n",
       " 0   Subscriptions paid on time.  \\nReview subscrip...  \n",
       " 1                            As agreed with customer.  \n",
       " 2   ISBN requests within 3 \\nworking days.  \\nUrge...  \n",
       " 3                            As agreed with customer.  \n",
       " 4   Basic within 2 working days,  \\nUrgent within ...  \n",
       " 5                                                None  \n",
       " 6                                                None  \n",
       " 7                            As agreed with customer.  \n",
       " 8                            As agreed with customer.  \n",
       " 9                            As agreed with customer.  \n",
       " 10                           As agreed with customer.  \n",
       " 11                           As agreed with customer.  \n",
       " 12                           As agreed with customer.  ,\n",
       " 'table42':                                               Service  \\\n",
       " 0                                      Bulk Mail Outs   \n",
       " 1                       Classified Mail (Safe \\nHand)   \n",
       " 2                                Courier Mail Freight   \n",
       " 3   Dispatching Outgoing \\nMail (Partner \\nDepartm...   \n",
       " 4                                        Express Post   \n",
       " 5   Incoming Mail and \\nPackages (Partner \\nDepart...   \n",
       " 6   International Mail and \\nFreight (Partner \\nde...   \n",
       " 7   Mail Runs (Partner \\nDepartments National \\nOf...   \n",
       " 8                                     Registered Post   \n",
       " 9                                    Same Day Service   \n",
       " 10                   State Office Overnight \\nService   \n",
       " \n",
       "                                           Description  \\\n",
       " 0   Provision of bulk mail services for 100 plus i...   \n",
       " 1   Provision of classified mail processing and ha...   \n",
       " 2   Provision of courier mail freight services inc...   \n",
       " 3     Processing and handling of outgoing mail items.   \n",
       " 4   Provision of express post processing and handl...   \n",
       " 5       Processing and distribution of incoming mail.   \n",
       " 6   Provision of international mail and freight pr...   \n",
       " 7   Undertake mail delivery services throughout Na...   \n",
       " 8                Processing of registered post items.   \n",
       " 9   Provision of same day mail processing, handlin...   \n",
       " 10  Provision of mail services between National Of...   \n",
       " \n",
       "                                         Service Level  \n",
       " 0           1-4 working days depending \\non location.  \n",
       " 1                       Overnight, working days only.  \n",
       " 2                                   1-2 working days.  \n",
       " 3                                  Each business day.  \n",
       " 4   Next business day delivery \\nwithin the Expres...  \n",
       " 5                                  Each business day.  \n",
       " 6       Twice a week to DFAT, for \\nDFAT to despatch.  \n",
       " 7                            Twice each business day.  \n",
       " 8                                   1-7 working days.  \n",
       " 9          1 business day but \\ndependent on flights.  \n",
       " 10                                 Each business day.  ,\n",
       " 'table44':                                    Service  \\\n",
       " 0                            File creation   \n",
       " 1                          File management   \n",
       " 2                           File Transfers   \n",
       " 3  FOI and Subpoena \\nSearches and Support   \n",
       " 4              Guidelines and \\nProcedures   \n",
       " 5                    Recordkeeping Support   \n",
       " 6             Senate and Adhoc \\nreporting   \n",
       " 7      Training - TRIM and \\nRecordkeeping   \n",
       " \n",
       "                                          Description  \\\n",
       " 0  Creation of electronic or paper files (where b...   \n",
       " 1  File management includes sentencing, archiving...   \n",
       " 2  Coordination and support for the transfer of p...   \n",
       " 3  Undertaking searches for records in TRIM as re...   \n",
       " 4  Development and maintenance of policy, guideli...   \n",
       " 5  Operational support (i.e. Recordkeeping advice...   \n",
       " 6  Coordinate the Response to Senate Procedural O...   \n",
       " 7  Provide training in record management procedur...   \n",
       " \n",
       "                                        Service Level  \n",
       " 0  Standard – 98% within 1 \\nworking day. \\nBulk ...  \n",
       " 1  Customer contacted within 3 \\nworking days to ...  \n",
       " 2                           As agreed with customer.  \n",
       " 3                             Within 3 working days.  \n",
       " 4                           As agreed with customer.  \n",
       " 5  General support - within 1 \\nworking day. \\nCo...  \n",
       " 6  As required by Parliament or \\nother pre-estab...  \n",
       " 7                           As agreed with customer.  ,\n",
       " 'table45':                        Service  \\\n",
       " 0         Applications Support   \n",
       " 1  Issue and Problem \\nSolving   \n",
       " 2        System Administration   \n",
       " 3              System Recovery   \n",
       " \n",
       "                                          Description  \\\n",
       " 0  Evaluation and implementation of patches, hot ...   \n",
       " 1  Provision of bug fixes, configuration/customis...   \n",
       " 2  Provision of technical support, system softwar...   \n",
       " 3          Disaster Recovery strategies and testing.   \n",
       " \n",
       "                                        Service Level  \n",
       " 0  Customer contacted within 4 \\nworking hours to...  \n",
       " 1  Customer contacted within 4 \\nworking hours to...  \n",
       " 2  Customer contacted within 4 \\nworking hours to...  \n",
       " 3  Customer contacted within 4 \\nworking hours to...  ,\n",
       " 'table46':                                              Service  \\\n",
       " 0                                  Business Analysis   \n",
       " 1                                 Project Management   \n",
       " 2  Systems Design, \\nDevelopment, Testing \\nand D...   \n",
       " 3                                Systems Integration   \n",
       " 4                    Technical Analysis and \\nAdvice   \n",
       " 5  Third Party System \\nCustomisation and \\nConfi...   \n",
       " 6        User-centric Interface \\nDesign and Testing   \n",
       " \n",
       "                                          Description             Service Level  \n",
       " 0  User requirements gathering, business process ...  As agreed with customer.  \n",
       " 1  Project management services in relation to app...  As agreed with customer.  \n",
       " 2  System design and development including soluti...  As agreed with customer.  \n",
       " 3  Development and support of functional and phys...  As agreed with customer.  \n",
       " 4  Technical advice and identification of availab...  As agreed with customer.  \n",
       " 5  Configuration, customisation and upgrades to 3...  As agreed with customer.  \n",
       " 6  User-centric and accessible system interface d...  As agreed with customer.  ,\n",
       " 'table47':                                         Service  \\\n",
       " 0       Advice and Support \\n(Connect Helpdesk)   \n",
       " 1  Business Intelligence (BI) \\nReporting Suite   \n",
       " 2                Development and \\nEnhancements   \n",
       " 3              Finance and Controlling \\n(FICO)   \n",
       " 4             Human Resources (HR) \\nManagement   \n",
       " \n",
       "                                          Description  \\\n",
       " 0  Advice and support for Connect (SAP) system re...   \n",
       " 1  Business Intelligence Reporting suite provides...   \n",
       " 2  This service provides development and enhancem...   \n",
       " 3  FICO refers to Finance (FI) and Controlling (C...   \n",
       " 4  Provision of HR functions based on core compon...   \n",
       " \n",
       "                                        Service Level  \n",
       " 0  Simple queries resolved \\nwithin 1 working day...  \n",
       " 1                           As agreed with customer.  \n",
       " 2                           As agreed with customer.  \n",
       " 3                           As agreed with customer.  \n",
       " 4                           As agreed with customer.  ,\n",
       " 'table48':                                  Service  \\\n",
       " 0                       Desktop Anywhere   \n",
       " 1  Fortress - Secure \\nProtected Enclave   \n",
       " 2                         LAN Drive Data   \n",
       " 3                               Mobility   \n",
       " 4          Remote Access Systems \\n(RAS)   \n",
       " 5          Software Licence \\nManagement   \n",
       " \n",
       "                                          Description  \\\n",
       " 0  Development and maintenance of mobile laptop p...   \n",
       " 1  The support, development and enhancement of pa...   \n",
       " 2               Provision and manage LAN drive data.   \n",
       " 3  The support, development and enhancement of mo...   \n",
       " 4  The design, enhancement and day to day adminis...   \n",
       " 5  Software technical evaluation and assessment, ...   \n",
       " \n",
       "                                        Service Level  \n",
       " 0  Customer contacted within 4 \\nworking hours to...  \n",
       " 1  Customer contacted within 4 \\nworking hours to...  \n",
       " 2  Customer contacted within 4 \\nworking hours to...  \n",
       " 3  Customer contacted within 4 \\nworking hours to...  \n",
       " 4  Customer contacted within 4 \\nworking hours to...  \n",
       " 5                           As agreed with customer.  ,\n",
       " 'table49':                                              Service  \\\n",
       " 0                         Tender Management \\nSystem   \n",
       " 1                             Unified Communications   \n",
       " 2  Workstation Standard \\nOperating Environment \\...   \n",
       " \n",
       "                                          Description  \\\n",
       " 0  The development and maintenance of the Tender ...   \n",
       " 1  Telephony, messaging and contact centre services.   \n",
       " 2  Development and maintenance of the Workstation...   \n",
       " \n",
       "                                        Service Level  \n",
       " 0  Customer contacted within 4 \\nworking hours to...  \n",
       " 1  Customer contacted within 4 \\nworking hours to...  \n",
       " 2  Customer contacted within 4 \\nworking hours to...  ,\n",
       " 'table50':                                        Service  \\\n",
       " 0  Geocoding and Address \\nManagement Services   \n",
       " 1           Mapping/Spatial Tools & \\nServices   \n",
       " 2      Spatial Analysis, Advice \\nand Training   \n",
       " 3    Spatial Data and \\nBusiness Data Services   \n",
       " \n",
       "                                          Description             Service Level  \n",
       " 0  Provision of Intech IQ address geocoding and b...  As agreed with customer.  \n",
       " 1  Provision of capability to display corporate d...  As agreed with customer.  \n",
       " 2  Consultation services on spatial issues and st...  As agreed with customer.  \n",
       " 3  Provision of spatial boundaries based on ASGS ...  As agreed with customer.  ,\n",
       " 'table51':                                   Service  \\\n",
       " 0  Application  Availability \\nMonitoring   \n",
       " 1    Application \\nPerformance Monitoring   \n",
       " 2                        Batch Processing   \n",
       " 3             Infrastructure \\nMonitoring   \n",
       " 4                     Operational Support   \n",
       " 5                   Performance Reporting   \n",
       " \n",
       "                                          Description  \\\n",
       " 0  Provision of monitoring to validate applicatio...   \n",
       " 1  Monitoring of the performance of the applicati...   \n",
       " 2  Batch processing is the processing of automate...   \n",
       " 3  Basic health monitoring, including but not lim...   \n",
       " 4  Management of incident responses and assessmen...   \n",
       " 5  Performance reports can be generated for vario...   \n",
       " \n",
       "                                        Service Level  \n",
       " 0  Customer contacted within 4 \\nworking hours to...  \n",
       " 1  Customer contacted within 4 \\nworking hours to...  \n",
       " 2  Customer contacted within 4 \\nworking hours to...  \n",
       " 3        30 minute response to all \\ncritical alerts  \n",
       " 4  Support – Response within 30 \\nminutes to all ...  \n",
       " 5  Customer contacted within 4 \\nworking hours to...  ,\n",
       " 'table52':                          Service  \\\n",
       " 0            Server Provisioning   \n",
       " 1                        Storage   \n",
       " 2  System Backups and \\nRestores   \n",
       " 3             Webstats Reporting   \n",
       " \n",
       "                                          Description  \\\n",
       " 0  Provision of new and replacement servers for t...   \n",
       " 1  Provision of new and replacement servers for t...   \n",
       " 2  Manage data backups and restores in line with ...   \n",
       " 3  Provide webstats for various websites that are...   \n",
       " \n",
       "                                        Service Level  \n",
       " 0  Customer contacted within 4 \\nworking hours to...  \n",
       " 1  Customer contacted within 4 \\nworking hours to...  \n",
       " 2  Customer contacted within 4 \\nworking hours to...  \n",
       " 3  Customer contacted within 4 \\nworking hours to...  ,\n",
       " 'table53':               Service                                        Description  \\\n",
       " 0            Database  Installation, configuration and maintenance of...   \n",
       " 1   Platform Software  Provision, maintenance and administration of c...   \n",
       " 2  Release Management  Provision and manage application hosting for p...   \n",
       " \n",
       "                                        Service Level  \n",
       " 0  Customer contacted within 4 \\nworking days to ...  \n",
       " 1  Customer contacted within 4 \\nworking hours to...  \n",
       " 2  Customer contacted within 4 \\nworking hours to...  ,\n",
       " 'table54':                                              Service  \\\n",
       " 0    Connectivity for External \\nFacing Applications   \n",
       " 1              External Domain Name \\nServices (DNS)   \n",
       " 2  External Email Services, \\nincluding SPAM filt...   \n",
       " 3                                     FEDLINK Access   \n",
       " \n",
       "                                          Description  \\\n",
       " 0  Manage network infrastructure that provides th...   \n",
       " 1  Provide external Domain Name Services includin...   \n",
       " 2  Delivery of external emails including spam fil...   \n",
       " 3  FEDLINK provides secure inter-departmental acc...   \n",
       " \n",
       "                                        Service Level  \n",
       " 0  Customer contacted within 4 \\nworking hours to...  \n",
       " 1  Customer contacted within 4 \\nworking hours to...  \n",
       " 2  Customer contacted within 4 \\nworking hours to...  \n",
       " 3  Customer contacted within 4 \\nworking hours to...  ,\n",
       " 'table55':                                              Service  \\\n",
       " 0                       FTP File Transfer \\nServices   \n",
       " 1  Internet Access at the \\nDesktop (proxy and \\n...   \n",
       " 2  Monitoring and \\nReporting (as a gateway \\nlea...   \n",
       " 3                            Secure Network Services   \n",
       " \n",
       "                                          Description  \\\n",
       " 0  Provide file transfer facilities to allow file...   \n",
       " 1  Provide access to the internet from supported ...   \n",
       " 2  Produce monthly reporting on utilisation of ga...   \n",
       " 3  Support and respond to customers as required w...   \n",
       " \n",
       "                                        Service Level  \n",
       " 0  Customer contacted within 4 \\nworking hours to...  \n",
       " 1  Customer contacted within 4 \\nworking hours to...  \n",
       " 2                           As agreed with customer.  \n",
       " 3  Customer contacted within 2 \\nworking hours to...  ,\n",
       " 'table56':                                              Service  \\\n",
       " 0                                       Cryptography   \n",
       " 1                            Cyber Incident Response   \n",
       " 2                   Identity and Access \\nManagement   \n",
       " 3                                       IT Forensics   \n",
       " 4  Security Event and \\nInformation \\nManagement ...   \n",
       " 5                                Security Governance   \n",
       " \n",
       "                                          Description  \\\n",
       " 0  Provision of security certificate’s and key ma...   \n",
       " 1  Respond and provide primary support for cyber ...   \n",
       " 2  Enabling authorised user management and access...   \n",
       " 3  Provision of E-discovery in support of Freedom...   \n",
       " 4  Monitoring and logging of network and user sec...   \n",
       " 5  Enabling best practice security governance \\n...   \n",
       " \n",
       "                                        Service Level  \n",
       " 0  10 working  days notice to \\nprovide external ...  \n",
       " 1  Within the agreed and \\ndocumented time frames...  \n",
       " 2  Within the agreed and \\ndocumented time frames...  \n",
       " 3  Within the agreed and \\ndocumented time frames...  \n",
       " 4  Within the agreed and \\ndocumented time frames...  \n",
       " 5  Within the agreed and \\ndocumented time frames...  ,\n",
       " 'table58':                                              Service  \\\n",
       " 0  Data Centre Network \\nconnectivity for servers...   \n",
       " 1                                         Desktop TV   \n",
       " 2  DNS (domain-name \\nservices) and DHCP \\n(netwo...   \n",
       " 3   Monitoring and \\nReporting of LAN/WAN \\nservices   \n",
       " 4  Network Connectivity \\nfor PCs and printers \\n...   \n",
       " \n",
       "                                          Description  \\\n",
       " 0  Provision and management of switching and rout...   \n",
       " 1  Provision of media streaming services for view...   \n",
       " 2  Provide support for internal DNS services incl...   \n",
       " 3  Monitoring of network availability and perform...   \n",
       " 4  Provision and maintenance of structured cablin...   \n",
       " \n",
       "                                        Service Level  \n",
       " 0  Customer contacted within 2 \\nworking hours to...  \n",
       " 1  Customer contacted within 2 \\nworking hours to...  \n",
       " 2  Customer contacted within 2 \\nworking hours to...  \n",
       " 3                           As agreed with customer.  \n",
       " 4  Customer contacted within 2 \\nworking hours to...  ,\n",
       " 'table59':                                              Service  \\\n",
       " 0  Network Links to State \\nand Regional Offices ...   \n",
       " 1          Specialist Advice - data \\ncommunications   \n",
       " 2                        Wireless Network \\nServices   \n",
       " \n",
       "                                          Description  \\\n",
       " 0  Provision and management of wide-area network ...   \n",
       " 1  Provision of specialist advice regarding data ...   \n",
       " 2  Provision, configuration and management of wir...   \n",
       " \n",
       "                                        Service Level  \n",
       " 0  Customer contacted within 2 \\nworking hours to...  \n",
       " 1                           As agreed with customer.  \n",
       " 2  Customer contacted within 2 \\nworking hours to...  ,\n",
       " 'table60':                  Service                                        Description  \\\n",
       " 0  Accessibility Testing  Accessibility Testing assesses a system’s conf...   \n",
       " 1    Performance Testing  This testing includes Load Tests, Stress Tests...   \n",
       " 2      Usability Testing  Usability Testing evaluates a system and its i...   \n",
       " 3  Vulnerability Testing  Vulnerability Assessment identifies real and p...   \n",
       " \n",
       "               Service Level  \n",
       " 0  As agreed with customer.  \n",
       " 1  As agreed with customer.  \n",
       " 2  As agreed with customer.  \n",
       " 3  As agreed with customer.  ,\n",
       " 'table61':                                              Service  \\\n",
       " 0  Executive Vehicle \\nScheme (EVS) - \\nAdvice/As...   \n",
       " 1          Executive Vehicle \\nScheme (EVS) - Orders   \n",
       " 2     Executive Vehicle \\nScheme (EVS) - \\nReporting   \n",
       " \n",
       "                                          Description  \\\n",
       " 0  Advice and assistance in response to requests ...   \n",
       " 1  Placement of EVS and other fleet vehicle order...   \n",
       " 2  Compilation of EVS reporting requirements for SES   \n",
       " \n",
       "                                        Service Level  \n",
       " 0  75% of requests processed \\nwithin 3 working d...  \n",
       " 1  All requests are completed \\nwithin agreed tim...  \n",
       " 2  Adhoc Reports – as agreed \\nwith customers. \\n...  ,\n",
       " 'table62':                                              Service  \\\n",
       " 0                                           Cleaning   \n",
       " 1      Facilities Management \\n(Contract Management)   \n",
       " 2  Facilities Management \\n(Incident \\nResolution...   \n",
       " 3                                            Parking   \n",
       " 4                      Property Finance \\nManagement   \n",
       " 5                        Property Lease \\nManagement   \n",
       " 6                               Property Maintenance   \n",
       " 7                     Waste Management / \\nRecycling   \n",
       " \n",
       "                                          Description  \\\n",
       " 0  Management of the contract for cleaning of off...   \n",
       " 1  Includes the creation, setup, monitoring and d...   \n",
       " 2  Building issues relating to air conditioning, ...   \n",
       " 3                  Management of parking allocation.   \n",
       " 4  Includes the management and payment of rental,...   \n",
       " 5  Includes the negotiation of prospective new le...   \n",
       " 6  Arranging for general repair and maintenance o...   \n",
       " 7  Services relating to the recycling of property...   \n",
       " \n",
       "                                        Service Level  \n",
       " 0                       In accordance with contract.  \n",
       " 1            In accordance with relevant \\ncontract.  \n",
       " 2  75% of jobs issued with \\nrelevant external se...  \n",
       " 3               In accordance with parking \\npolicy.  \n",
       " 4                          Within agreed timeframes.  \n",
       " 5                          Within agreed timeframes.  \n",
       " 6                          Within agreed timeframes.  \n",
       " 7                       In accordance with contract.  ,\n",
       " 'table63':                                              Service  \\\n",
       " 0                     Adhoc Security Guard \\nsupport   \n",
       " 1                                After hours support   \n",
       " 2                                Electronic Security   \n",
       " 3                                  Forensic Material   \n",
       " 4                      Mobile and Alarm \\nMonitoring   \n",
       " 5  Protective Security and \\nIT Security Incident...   \n",
       " 6                                    Security Advice   \n",
       " 7                                    Security Guards   \n",
       " \n",
       "                                          Description  \\\n",
       " 0  Adhoc Security Guard service e.g. 50 MC Theatr...   \n",
       " 1  Provision of after-hours support in relation t...   \n",
       " 2  The provision of building access control syste...   \n",
       " 3  Provision of electronic material including pro...   \n",
       " 4  Provision of mobile and alarm monitoring servi...   \n",
       " 5  Security incidents involving assets are report...   \n",
       " 6           Provision of protective security advice.   \n",
       " 7  Provision of security guard services as requir...   \n",
       " \n",
       "                                        Service Level  \n",
       " 0  All requests will be actioned \\nwithin 3 worki...  \n",
       " 1  All requests will be actioned \\nwithin 3 worki...  \n",
       " 2  All requests will be actioned \\nwithin 3 worki...  \n",
       " 3  All requests will be actioned \\nwithin 3 worki...  \n",
       " 4  All requests will be actioned \\nwithin 3 worki...  \n",
       " 5  All requests will be actioned \\nwithin 3 worki...  \n",
       " 6  All requests will be actioned \\nwithin 3 worki...  \n",
       " 7  All requests will be actioned \\nwithin 3 worki...  ,\n",
       " 'table64':                                    Service  \\\n",
       " 0            Minor and Major \\nRelocations   \n",
       " 1                            Office fitout   \n",
       " 2  Setup of Purpose-Built \\nFunction Rooms   \n",
       " \n",
       "                                          Description  \\\n",
       " 0    Provision of minor and major staff relocations.   \n",
       " 1  Fitouts include the demolition of an existing ...   \n",
       " 2  Setup of purpose built function rooms and meet...   \n",
       " \n",
       "                                        Service Level  \n",
       " 0  All requests completed within \\nagreed time fr...  \n",
       " 1  All requests completed within \\nagreed time fr...  \n",
       " 2  All requests completed within \\nagreed time fr...  }"
      ]
     },
     "execution_count": 46,
     "metadata": {},
     "output_type": "execute_result"
    }
   ],
   "source": [
    "dictionary_of_tables = extract_all_tables(pdf)\n",
    "dictionary_of_tables"
   ]
  },
  {
   "cell_type": "markdown",
   "id": "17ff3d15",
   "metadata": {},
   "source": [
    "### Removing irrelevant symbols and words from the postconditions"
   ]
  },
  {
   "cell_type": "code",
   "execution_count": 31,
   "id": "e3878560",
   "metadata": {},
   "outputs": [],
   "source": [
    "def filtering(string):\n",
    "    \n",
    "    string = string.replace('\\n','')\n",
    "    string = string.replace(' ','  ')\n",
    "    string = re.sub('[^a-zA-Z ]+', '', string)\n",
    "    #string = remove_stopwords(string) \n",
    "    #print(string)\n",
    "    \n",
    "    return string"
   ]
  },
  {
   "cell_type": "markdown",
   "id": "f4c94dcb",
   "metadata": {},
   "source": [
    "### Extracting all the services and subsequent post conditions from the tables"
   ]
  },
  {
   "cell_type": "code",
   "execution_count": 5,
   "id": "5c2df68c",
   "metadata": {},
   "outputs": [],
   "source": [
    "def get_services(dictionary_of_tables):\n",
    "    \n",
    "    list_of_services = []\n",
    "    for i in list(dictionary_of_tables.keys()):\n",
    "        df = dictionary_of_tables[i]\n",
    "        for index,row in df.iterrows():\n",
    "            list_of_services.append(Service(str(row['Service']),filtering(str(row['Description']))))\n",
    "    \n",
    "    return list_of_services"
   ]
  },
  {
   "cell_type": "code",
   "execution_count": 49,
   "id": "fdcf5fc9",
   "metadata": {},
   "outputs": [
    {
     "data": {
      "text/plain": [
       "[<service.Service at 0x29648a95c48>,\n",
       " <service.Service at 0x29648a95a08>,\n",
       " <service.Service at 0x29648a95ac8>,\n",
       " <service.Service at 0x29648a95c08>,\n",
       " <service.Service at 0x29648a95bc8>,\n",
       " <service.Service at 0x29648a95e08>,\n",
       " <service.Service at 0x29648a95f08>,\n",
       " <service.Service at 0x29648a95788>,\n",
       " <service.Service at 0x29648a95a88>,\n",
       " <service.Service at 0x29648a95048>,\n",
       " <service.Service at 0x29648a95e88>,\n",
       " <service.Service at 0x29648a95d48>,\n",
       " <service.Service at 0x29648a95fc8>,\n",
       " <service.Service at 0x29648a95d88>,\n",
       " <service.Service at 0x29648a95c88>,\n",
       " <service.Service at 0x29648a95e48>,\n",
       " <service.Service at 0x29648a95ec8>,\n",
       " <service.Service at 0x29648a95b48>,\n",
       " <service.Service at 0x29648a95a48>,\n",
       " <service.Service at 0x29648a95f48>,\n",
       " <service.Service at 0x29648a95cc8>,\n",
       " <service.Service at 0x29648a95f88>,\n",
       " <service.Service at 0x29648a95dc8>,\n",
       " <service.Service at 0x29648a7dd08>,\n",
       " <service.Service at 0x29648a7d8c8>,\n",
       " <service.Service at 0x29648a7d088>,\n",
       " <service.Service at 0x29648a7d308>,\n",
       " <service.Service at 0x29648a7db48>,\n",
       " <service.Service at 0x29648a7dbc8>,\n",
       " <service.Service at 0x29648a7d9c8>,\n",
       " <service.Service at 0x29648a7d908>,\n",
       " <service.Service at 0x29648a7d588>,\n",
       " <service.Service at 0x29648a7d988>,\n",
       " <service.Service at 0x29648a7d048>,\n",
       " <service.Service at 0x29648a7d348>,\n",
       " <service.Service at 0x29648a7d188>,\n",
       " <service.Service at 0x29648a7db08>,\n",
       " <service.Service at 0x29648a7d3c8>,\n",
       " <service.Service at 0x29648a7da48>,\n",
       " <service.Service at 0x29648a7d108>,\n",
       " <service.Service at 0x29648a7dd88>,\n",
       " <service.Service at 0x29648a7d2c8>,\n",
       " <service.Service at 0x29648a7d288>,\n",
       " <service.Service at 0x29648a7d888>,\n",
       " <service.Service at 0x29648a7d648>,\n",
       " <service.Service at 0x29648a7dcc8>,\n",
       " <service.Service at 0x29648a7d848>,\n",
       " <service.Service at 0x29648a7d508>,\n",
       " <service.Service at 0x29648a7d208>,\n",
       " <service.Service at 0x29648a7d1c8>,\n",
       " <service.Service at 0x29648a7d248>,\n",
       " <service.Service at 0x29648a7dfc8>,\n",
       " <service.Service at 0x29648a7d388>,\n",
       " <service.Service at 0x29648a7d708>,\n",
       " <service.Service at 0x29648a7da88>,\n",
       " <service.Service at 0x29648a7db88>,\n",
       " <service.Service at 0x29648a7d6c8>,\n",
       " <service.Service at 0x29648a7d548>,\n",
       " <service.Service at 0x29648a7d7c8>,\n",
       " <service.Service at 0x29648a7d488>,\n",
       " <service.Service at 0x29648a7d688>,\n",
       " <service.Service at 0x29648a7de88>,\n",
       " <service.Service at 0x29648a7dc88>,\n",
       " <service.Service at 0x29648a7d148>,\n",
       " <service.Service at 0x29648a7dec8>,\n",
       " <service.Service at 0x29648a7ddc8>,\n",
       " <service.Service at 0x29648a7dd48>,\n",
       " <service.Service at 0x29648a7d0c8>,\n",
       " <service.Service at 0x29648a7df08>,\n",
       " <service.Service at 0x29648a7d788>,\n",
       " <service.Service at 0x29648a7d448>,\n",
       " <service.Service at 0x29648a7d608>,\n",
       " <service.Service at 0x29648a7d5c8>,\n",
       " <service.Service at 0x29648a7d748>,\n",
       " <service.Service at 0x29648a7d948>,\n",
       " <service.Service at 0x29648a7d408>,\n",
       " <service.Service at 0x29648a7dac8>,\n",
       " <service.Service at 0x29648a7df48>,\n",
       " <service.Service at 0x29648a7d808>,\n",
       " <service.Service at 0x29648a7dc48>,\n",
       " <service.Service at 0x29648a7dc08>,\n",
       " <service.Service at 0x29648a7d4c8>,\n",
       " <service.Service at 0x29648a7f248>,\n",
       " <service.Service at 0x29648a7f088>,\n",
       " <service.Service at 0x29648a7f288>,\n",
       " <service.Service at 0x29648a7f3c8>,\n",
       " <service.Service at 0x29648a7f1c8>,\n",
       " <service.Service at 0x29648a7f348>,\n",
       " <service.Service at 0x29648a7da08>,\n",
       " <service.Service at 0x29648a7f448>,\n",
       " <service.Service at 0x29648a7f6c8>,\n",
       " <service.Service at 0x29648a7f488>,\n",
       " <service.Service at 0x29648a7f148>,\n",
       " <service.Service at 0x29648a7fa08>,\n",
       " <service.Service at 0x29648a7f808>,\n",
       " <service.Service at 0x29648a7f8c8>,\n",
       " <service.Service at 0x29648a7fac8>,\n",
       " <service.Service at 0x29648a7f748>,\n",
       " <service.Service at 0x29648a7f948>,\n",
       " <service.Service at 0x29648a7f7c8>,\n",
       " <service.Service at 0x29648a7fa88>,\n",
       " <service.Service at 0x29648a7f988>,\n",
       " <service.Service at 0x29648a7f848>,\n",
       " <service.Service at 0x29648a7f588>,\n",
       " <service.Service at 0x29648a7f648>,\n",
       " <service.Service at 0x29648a7f608>,\n",
       " <service.Service at 0x29648a7f908>,\n",
       " <service.Service at 0x29648a7fdc8>,\n",
       " <service.Service at 0x29648a7ff08>,\n",
       " <service.Service at 0x29648a7fe08>,\n",
       " <service.Service at 0x29648a7fc88>,\n",
       " <service.Service at 0x29648a7fd88>,\n",
       " <service.Service at 0x29648a7ffc8>,\n",
       " <service.Service at 0x29648a7f108>,\n",
       " <service.Service at 0x29648a7f888>,\n",
       " <service.Service at 0x29648a7f9c8>,\n",
       " <service.Service at 0x29648a7ff48>,\n",
       " <service.Service at 0x29648a7fc08>,\n",
       " <service.Service at 0x29648a7f388>,\n",
       " <service.Service at 0x29648a7f508>,\n",
       " <service.Service at 0x29648a7f708>,\n",
       " <service.Service at 0x29648a7fd48>,\n",
       " <service.Service at 0x29648a7f2c8>,\n",
       " <service.Service at 0x29648a7f788>,\n",
       " <service.Service at 0x29648a7f048>,\n",
       " <service.Service at 0x29648a7f188>,\n",
       " <service.Service at 0x29648a7f0c8>,\n",
       " <service.Service at 0x29648a7fec8>,\n",
       " <service.Service at 0x29648a7fb88>,\n",
       " <service.Service at 0x29648a7fd08>,\n",
       " <service.Service at 0x29648a7fb48>,\n",
       " <service.Service at 0x29648a7fe88>,\n",
       " <service.Service at 0x29648a7fe48>,\n",
       " <service.Service at 0x29648a7f308>,\n",
       " <service.Service at 0x29648a7ff88>,\n",
       " <service.Service at 0x29648a7f4c8>,\n",
       " <service.Service at 0x29648a7f548>,\n",
       " <service.Service at 0x29648a7fcc8>,\n",
       " <service.Service at 0x29648a7fa48>,\n",
       " <service.Service at 0x29648a7f688>,\n",
       " <service.Service at 0x29648a7f208>,\n",
       " <service.Service at 0x29648a7fc48>,\n",
       " <service.Service at 0x29648a7f408>,\n",
       " <service.Service at 0x29648a7fbc8>,\n",
       " <service.Service at 0x29648a7f5c8>,\n",
       " <service.Service at 0x29648a88548>,\n",
       " <service.Service at 0x29648a885c8>,\n",
       " <service.Service at 0x29648a880c8>,\n",
       " <service.Service at 0x29648a7fb08>,\n",
       " <service.Service at 0x29648a88408>,\n",
       " <service.Service at 0x29648a88088>,\n",
       " <service.Service at 0x29648a88988>,\n",
       " <service.Service at 0x29648a889c8>,\n",
       " <service.Service at 0x29648a88108>,\n",
       " <service.Service at 0x29648a88488>,\n",
       " <service.Service at 0x29648a88608>,\n",
       " <service.Service at 0x29648a88a08>,\n",
       " <service.Service at 0x29648a88688>,\n",
       " <service.Service at 0x296219f2708>,\n",
       " <service.Service at 0x29648a7df88>,\n",
       " <service.Service at 0x29648a88c88>,\n",
       " <service.Service at 0x29648a88948>,\n",
       " <service.Service at 0x29648a88708>,\n",
       " <service.Service at 0x29648a882c8>,\n",
       " <service.Service at 0x29648a88f48>,\n",
       " <service.Service at 0x29648a88908>,\n",
       " <service.Service at 0x29648a88388>,\n",
       " <service.Service at 0x29648a88848>,\n",
       " <service.Service at 0x29648a88448>,\n",
       " <service.Service at 0x29648a88cc8>,\n",
       " <service.Service at 0x29648a88c08>,\n",
       " <service.Service at 0x29648a886c8>,\n",
       " <service.Service at 0x29648a88308>,\n",
       " <service.Service at 0x29648a88208>,\n",
       " <service.Service at 0x29648a88348>,\n",
       " <service.Service at 0x29648a88fc8>,\n",
       " <service.Service at 0x29648a88bc8>,\n",
       " <service.Service at 0x29648a88748>,\n",
       " <service.Service at 0x29648a88b08>,\n",
       " <service.Service at 0x29648a88188>,\n",
       " <service.Service at 0x29648a88508>,\n",
       " <service.Service at 0x29648a884c8>,\n",
       " <service.Service at 0x29648a88a48>,\n",
       " <service.Service at 0x29648a88d08>,\n",
       " <service.Service at 0x29648a88148>,\n",
       " <service.Service at 0x29648a88ec8>,\n",
       " <service.Service at 0x29648a88e88>,\n",
       " <service.Service at 0x29648a88a88>,\n",
       " <service.Service at 0x29648a88b48>,\n",
       " <service.Service at 0x29648a88d88>,\n",
       " <service.Service at 0x29648a887c8>,\n",
       " <service.Service at 0x29648a88588>,\n",
       " <service.Service at 0x29648a88648>,\n",
       " <service.Service at 0x29648a883c8>,\n",
       " <service.Service at 0x29648a888c8>,\n",
       " <service.Service at 0x29648a88f88>,\n",
       " <service.Service at 0x29648a88888>,\n",
       " <service.Service at 0x29648a88f08>,\n",
       " <service.Service at 0x29648a88808>,\n",
       " <service.Service at 0x29648a881c8>,\n",
       " <service.Service at 0x29648a88048>,\n",
       " <service.Service at 0x29648a88c48>,\n",
       " <service.Service at 0x29648a88788>,\n",
       " <service.Service at 0x29648a88ac8>,\n",
       " <service.Service at 0x29648a88b88>,\n",
       " <service.Service at 0x29648a88e08>,\n",
       " <service.Service at 0x29648a88288>,\n",
       " <service.Service at 0x29648a8d2c8>,\n",
       " <service.Service at 0x29648a8d388>,\n",
       " <service.Service at 0x29648a8d348>,\n",
       " <service.Service at 0x29648a8d248>,\n",
       " <service.Service at 0x29648a8d4c8>,\n",
       " <service.Service at 0x29648a8d108>,\n",
       " <service.Service at 0x29648a8d788>,\n",
       " <service.Service at 0x29648a8da88>,\n",
       " <service.Service at 0x29648a8d588>,\n",
       " <service.Service at 0x29648a8da48>,\n",
       " <service.Service at 0x29648a8d948>,\n",
       " <service.Service at 0x29648a8d7c8>,\n",
       " <service.Service at 0x29648a8d148>,\n",
       " <service.Service at 0x29648a8d848>,\n",
       " <service.Service at 0x29648a8d908>,\n",
       " <service.Service at 0x29648a8d408>,\n",
       " <service.Service at 0x29648a8dc88>,\n",
       " <service.Service at 0x29648a8dc08>,\n",
       " <service.Service at 0x29648a8d8c8>,\n",
       " <service.Service at 0x29648a8df08>,\n",
       " <service.Service at 0x29648a8d9c8>,\n",
       " <service.Service at 0x29648a8d0c8>,\n",
       " <service.Service at 0x29648a8d288>,\n",
       " <service.Service at 0x29648a8d3c8>,\n",
       " <service.Service at 0x29648a8dcc8>,\n",
       " <service.Service at 0x29648a8d988>,\n",
       " <service.Service at 0x29648a8dbc8>,\n",
       " <service.Service at 0x29648a8dac8>,\n",
       " <service.Service at 0x29648a8df48>,\n",
       " <service.Service at 0x29648a8d308>,\n",
       " <service.Service at 0x29648a8d488>,\n",
       " <service.Service at 0x29648a8dec8>,\n",
       " <service.Service at 0x29648a8da08>,\n",
       " <service.Service at 0x29648a8d5c8>,\n",
       " <service.Service at 0x29648a8d708>,\n",
       " <service.Service at 0x29648a8d608>,\n",
       " <service.Service at 0x29648a8db08>,\n",
       " <service.Service at 0x29648a8d208>,\n",
       " <service.Service at 0x29648a8de48>,\n",
       " <service.Service at 0x29648a8dd88>,\n",
       " <service.Service at 0x29648a8ddc8>,\n",
       " <service.Service at 0x29648a8d548>,\n",
       " <service.Service at 0x29648a8d448>,\n",
       " <service.Service at 0x29648a8de88>,\n",
       " <service.Service at 0x29648a8d748>,\n",
       " <service.Service at 0x29648a8d048>,\n",
       " <service.Service at 0x29648a8db88>,\n",
       " <service.Service at 0x29648a8d1c8>,\n",
       " <service.Service at 0x29648a8db48>,\n",
       " <service.Service at 0x29648a8d648>,\n",
       " <service.Service at 0x29648a8d088>,\n",
       " <service.Service at 0x29648a8dd08>,\n",
       " <service.Service at 0x29648a8d808>,\n",
       " <service.Service at 0x29648a8dc48>,\n",
       " <service.Service at 0x29648a8de08>,\n",
       " <service.Service at 0x29648a8dd48>,\n",
       " <service.Service at 0x29648a8df88>,\n",
       " <service.Service at 0x29648a8d6c8>,\n",
       " <service.Service at 0x2964878c048>,\n",
       " <service.Service at 0x29648a237c8>,\n",
       " <service.Service at 0x296484a0648>,\n",
       " <service.Service at 0x29648a5a108>,\n",
       " <service.Service at 0x29648a395c8>,\n",
       " <service.Service at 0x29648a3e688>,\n",
       " <service.Service at 0x296219f8348>,\n",
       " <service.Service at 0x29648a75448>,\n",
       " <service.Service at 0x29648a1df48>,\n",
       " <service.Service at 0x29621934c88>,\n",
       " <service.Service at 0x29648a85c08>,\n",
       " <service.Service at 0x29648a85b48>,\n",
       " <service.Service at 0x296219bd4c8>,\n",
       " <service.Service at 0x29648a75d88>,\n",
       " <service.Service at 0x2964899cfc8>]"
      ]
     },
     "execution_count": 49,
     "metadata": {},
     "output_type": "execute_result"
    }
   ],
   "source": [
    "list_of_services = get_services(dictionary_of_tables)\n",
    "list_of_services"
   ]
  },
  {
   "cell_type": "markdown",
   "id": "3dc023bb",
   "metadata": {},
   "source": [
    "### Reading the goal statements"
   ]
  },
  {
   "cell_type": "code",
   "execution_count": 6,
   "id": "d7494fa1",
   "metadata": {},
   "outputs": [
    {
     "data": {
      "text/plain": [
       "['Equip our people and Australian businesses with the skills necessary to deliver world-leading digital services.',\n",
       " 'Adopt better ways of working that bring people together quickly and efficiently and reduce risk.',\n",
       " 'Collaborate with other sectors, including small and medium-sized enterprises, community organisations and academia.',\n",
       " 'Develop sustainable platforms that we can share across government.',\n",
       " 'Deliver value for people and businesses by managing costs and risks.',\n",
       " 'Services will be smart and adapt to the data you choose to share.',\n",
       " 'Policy and services will draw on data and analytics.',\n",
       " 'Advanced technologies will improve decision-making and be transparent and auditable.',\n",
       " 'Earn your trust through being strong custodians of your data.',\n",
       " 'Customers will be able to access all government services digitally.',\n",
       " 'Customers will have seamlessly integrated services that support your needs and life events.',\n",
       " 'Customers will be able to choose a secure and easy to use digital identity to access all digital government services.',\n",
       " 'Customers will have access to alternatives if they are unable to access services in a digital way.']"
      ]
     },
     "execution_count": 6,
     "metadata": {},
     "output_type": "execute_result"
    }
   ],
   "source": [
    "doc = docx.Document(r\"Service Catalogues\\Government-Goals.docx\")\n",
    "list_of_goals = [i.text for i in doc.paragraphs]\n",
    "list_of_goals"
   ]
  },
  {
   "cell_type": "markdown",
   "id": "c46f3ff1",
   "metadata": {},
   "source": [
    "### Loading the Transformers"
   ]
  },
  {
   "cell_type": "code",
   "execution_count": 7,
   "id": "f1be6087",
   "metadata": {},
   "outputs": [],
   "source": [
    "from transformers import AutoTokenizer, AutoModelForSequenceClassification\n",
    "import torch \n",
    "import pandas as pd\n",
    "import numpy as np\n",
    "import sent2vec"
   ]
  },
  {
   "cell_type": "code",
   "execution_count": 8,
   "id": "b1437e85",
   "metadata": {},
   "outputs": [
    {
     "name": "stderr",
     "output_type": "stream",
     "text": [
      "Some weights of the model checkpoint at roberta-large-mnli were not used when initializing RobertaForSequenceClassification: ['roberta.pooler.dense.weight', 'roberta.pooler.dense.bias']\n",
      "- This IS expected if you are initializing RobertaForSequenceClassification from the checkpoint of a model trained on another task or with another architecture (e.g. initializing a BertForSequenceClassification model from a BertForPreTraining model).\n",
      "- This IS NOT expected if you are initializing RobertaForSequenceClassification from the checkpoint of a model that you expect to be exactly identical (initializing a BertForSequenceClassification model from a BertForSequenceClassification model).\n"
     ]
    }
   ],
   "source": [
    "labels = ['Contradiction','Neutral','Entailment']\n",
    "tokenizer = AutoTokenizer.from_pretrained(\"roberta-large-mnli\")\n",
    "#print(len(tokenizer))\n",
    "model_rob = AutoModelForSequenceClassification.from_pretrained(\"roberta-large-mnli\")"
   ]
  },
  {
   "cell_type": "code",
   "execution_count": 9,
   "id": "9fa96830",
   "metadata": {},
   "outputs": [],
   "source": [
    "def roberta_probability(sentence1,sentence2):\n",
    "    \n",
    "    #print(sentence1,sentence2)\n",
    "    id1 = tokenizer.encode(sentence1,sentence2, padding = True, max_length=512, truncation='longest_first', return_tensors=\"pt\")\n",
    "    \n",
    "\n",
    "    \n",
    "    \n",
    "    logits = model_rob.forward(id1, return_dict=True).logits\n",
    "\n",
    "    p = torch.nn.functional.softmax(logits, dim=1)\n",
    "    probs = p.tolist()[0]\n",
    "    labels = ['Contradiction','Neutral','Entailment']\n",
    "    \n",
    "    result = {}\n",
    "    for keys,values in zip(labels,probs):\n",
    "        result[keys] = values\n",
    "    \n",
    "    result['Contradiction'] = result['Contradiction']*100\n",
    "    result['Neutral'] = result['Neutral']*100\n",
    "    result['Entailment']= result['Entailment']*100\n",
    "    \n",
    "    \n",
    "    \n",
    "    return result"
   ]
  },
  {
   "cell_type": "markdown",
   "id": "078dd362",
   "metadata": {},
   "source": [
    "### Semantic Similarity"
   ]
  },
  {
   "cell_type": "code",
   "execution_count": 10,
   "id": "aae90b95",
   "metadata": {},
   "outputs": [
    {
     "name": "stderr",
     "output_type": "stream",
     "text": [
      "INFO:absl:Using C:\\Users\\indva\\AppData\\Local\\Temp\\tfhub_modules to cache modules.\n"
     ]
    },
    {
     "name": "stdout",
     "output_type": "stream",
     "text": [
      "module https://tfhub.dev/google/universal-sentence-encoder/4 loaded\n"
     ]
    }
   ],
   "source": [
    "#from sentence_transformers import SentenceTransformer\n",
    "import numpy as np\n",
    "import tensorflow as tf\n",
    "import tensorflow_hub as hub\n",
    "module_url = \"https://tfhub.dev/google/universal-sentence-encoder/4\" \n",
    "sbert_model = hub.load(module_url)\n",
    "print (\"module %s loaded\" % module_url)"
   ]
  },
  {
   "cell_type": "code",
   "execution_count": 55,
   "id": "5e7dcdf5",
   "metadata": {},
   "outputs": [],
   "source": [
    "sentences = [i.description for i in list_of_services]"
   ]
  },
  {
   "cell_type": "code",
   "execution_count": 11,
   "id": "61c6b68f",
   "metadata": {},
   "outputs": [],
   "source": [
    "def cosine(u, v):\n",
    "    return np.dot(u, v) / (np.linalg.norm(u) * np.linalg.norm(v))"
   ]
  },
  {
   "cell_type": "code",
   "execution_count": 57,
   "id": "999a613f",
   "metadata": {},
   "outputs": [],
   "source": [
    "#sbert_model = SentenceTransformer('roberta-base-nli-mean-tokens')"
   ]
  },
  {
   "cell_type": "code",
   "execution_count": 58,
   "id": "37346e9b",
   "metadata": {},
   "outputs": [
    {
     "data": {
      "text/plain": [
       "280"
      ]
     },
     "execution_count": 58,
     "metadata": {},
     "output_type": "execute_result"
    }
   ],
   "source": [
    "sentence_embeddings = sbert_model(sentences)\n",
    "len(sentence_embeddings)"
   ]
  },
  {
   "cell_type": "code",
   "execution_count": 12,
   "id": "dc427cd7",
   "metadata": {},
   "outputs": [],
   "source": [
    "def create_query_vecs(goals):\n",
    "    \n",
    "    query_vecs = []\n",
    "    \n",
    "    for i in goals:\n",
    "        query_vecs.append(sbert_model([i])[0])\n",
    "    \n",
    "    return query_vecs"
   ]
  },
  {
   "cell_type": "code",
   "execution_count": 60,
   "id": "414fe419",
   "metadata": {},
   "outputs": [
    {
     "data": {
      "text/plain": [
       "13"
      ]
     },
     "execution_count": 60,
     "metadata": {},
     "output_type": "execute_result"
    }
   ],
   "source": [
    "query_vecs = create_query_vecs(list_of_goals)\n",
    "len(query_vecs)"
   ]
  },
  {
   "cell_type": "code",
   "execution_count": 13,
   "id": "48f69f33",
   "metadata": {},
   "outputs": [],
   "source": [
    "def create_similarity_dict(query_vecs,sentences):\n",
    "    \n",
    "    similarity_dict = {}\n",
    "    index = 0\n",
    "    for i in query_vecs:\n",
    "        similarity_dict['Goal'+str(index)] = []\n",
    "        index+=1\n",
    "        for j in sentences:\n",
    "            similarity_dict['Goal'+str(index-1)].append(cosine(i, sbert_model([j])[0]))\n",
    "\n",
    "    return similarity_dict"
   ]
  },
  {
   "cell_type": "code",
   "execution_count": 62,
   "id": "623ee6f6",
   "metadata": {},
   "outputs": [],
   "source": [
    "similarity_dict = create_similarity_dict(query_vecs,sentences)"
   ]
  },
  {
   "cell_type": "code",
   "execution_count": 14,
   "id": "14edf7e9",
   "metadata": {},
   "outputs": [],
   "source": [
    "def get_topN_similarity(similarity_dict,N):\n",
    "    top_similarity = {}\n",
    "    for (key,value) in similarity_dict.items():\n",
    "        servkey = (sorted(range(len(value)), key=lambda i:value[i])[:-N-1:-1])\n",
    "        valsim = sorted(value)[:-N-1:-1]\n",
    "        top_similarity[key] = [(i,j) for (i,j) in zip(servkey,valsim)]\n",
    "        \n",
    "    return top_similarity\n",
    "\n",
    "goals_service_sim = get_topN_similarity(similarity_dict,10)\n",
    "#goals_service_sim"
   ]
  },
  {
   "cell_type": "code",
   "execution_count": 15,
   "id": "5372c352",
   "metadata": {},
   "outputs": [],
   "source": [
    "import seaborn as sns\n",
    "def plot_similarity(labels, features, rotation):\n",
    "    corr = np.inner(features, features)\n",
    "    sns.set(font_scale=0.6)\n",
    "    g = sns.heatmap(corr,\n",
    "                    xticklabels=labels,\n",
    "                    yticklabels=labels,\n",
    "                    vmin=0,\n",
    "                    vmax=1,\n",
    "                    cmap=\"YlOrRd\")\n",
    "    g.set_xticklabels(labels, rotation=rotation)\n",
    "    g.set_title(\"Semantic Textual Similarity\")\n",
    "\n",
    "def run_and_plot(messages_,labels):\n",
    "    message_embeddings_ = sbert_model(messages_)\n",
    "    plot_similarity(labels, message_embeddings_, 90)"
   ]
  },
  {
   "cell_type": "code",
   "execution_count": 79,
   "id": "884f8cb1",
   "metadata": {},
   "outputs": [
    {
     "data": {
      "image/png": "[encoded data removed]",
      "text/plain": [
       "<Figure size 432x288 with 2 Axes>"
      ]
     },
     "metadata": {},
     "output_type": "display_data"
    }
   ],
   "source": [
    "messages = [list_of_services[i[0]].description for i in goals_service_sim['Goal6']] + [list_of_goals[6]]\n",
    "labels = [list_of_services[i[0]].name for i in goals_service_sim['Goal6']] + [list_of_goals[6]]\n",
    "run_and_plot(messages,labels)"
   ]
  },
  {
   "cell_type": "markdown",
   "id": "a581bc9b",
   "metadata": {},
   "source": [
    "### Getting all combinations of postconditions"
   ]
  },
  {
   "cell_type": "code",
   "execution_count": 16,
   "id": "ec110d9a",
   "metadata": {},
   "outputs": [],
   "source": [
    "from itertools import combinations\n",
    "\n",
    "def postcondition_generator(similar_services,list_of_services,selection):\n",
    "    \n",
    "    combs = list(combinations(similar_services, selection))\n",
    "    \n",
    "    postconds = []\n",
    "    \n",
    "    for comb in combs:\n",
    "        postcond = str()\n",
    "        services = []\n",
    "        for index in comb:\n",
    "            postcond += list_of_services[index[0]].description\n",
    "            postcond += '. '\n",
    "       \n",
    "        postconds.append(postcond)\n",
    "       \n",
    "            \n",
    "    \n",
    "    return postconds,combs"
   ]
  },
  {
   "cell_type": "code",
   "execution_count": 17,
   "id": "a76d23ec",
   "metadata": {},
   "outputs": [],
   "source": [
    "from operator import itemgetter"
   ]
  },
  {
   "cell_type": "code",
   "execution_count": 82,
   "id": "1d0df044",
   "metadata": {},
   "outputs": [],
   "source": [
    "#postconds,combs = postcondition_generator(goals_service_sim['Goal0'],list_of_services,selection=5)\n",
    "#len(postconds)"
   ]
  },
  {
   "cell_type": "markdown",
   "id": "9f848029",
   "metadata": {},
   "source": [
    "### All Combinations alignment(New)"
   ]
  },
  {
   "cell_type": "code",
   "execution_count": 18,
   "id": "270e9a6e",
   "metadata": {},
   "outputs": [],
   "source": [
    "from tqdm import tqdm\n",
    "def check_entailment(goal,list_of_postconds):\n",
    "    \n",
    "    \n",
    "    \n",
    "    result = roberta_probability(list_of_postconds[0],goal)\n",
    "    \n",
    "    pbar = tqdm(total = len(list_of_postconds),position=0, leave=True) \n",
    "    \n",
    "    runs=1\n",
    "    \n",
    "    while (result['Entailment'] < 66 and runs <= len(list_of_postconds)):\n",
    "        \n",
    "        try:\n",
    "            newresult = roberta_probability(list_of_postconds[runs],goal)\n",
    "            \n",
    "            if newresult['Entailment'] > result['Entailment']:\n",
    "                result,runs = newresult,runs\n",
    "            \n",
    "            pbar.update(1)\n",
    "            runs+=1\n",
    "            \n",
    "        except IndexError as error:\n",
    "            print(\"Benchmark probability not reached\")\n",
    "            break\n",
    "            \n",
    "    pbar.close()\n",
    "            \n",
    "    return result,runs"
   ]
  },
  {
   "cell_type": "code",
   "execution_count": 19,
   "id": "8f29a628",
   "metadata": {},
   "outputs": [],
   "source": [
    "def service_alignment(list_of_goals,goals_service_sim,list_of_services):\n",
    "    \n",
    "    alignment_dict = {}\n",
    "    \n",
    "    for (i,goal) in enumerate(list_of_goals):\n",
    "        \n",
    "        similar_services = goals_service_sim['Goal'+str(i)]\n",
    "        #print(len(similar_services))\n",
    "        \n",
    "        print(f\"\\n\\n-----Checking for the Goal {i}------\\n\\n\")\n",
    "        max_list = []\n",
    "        \n",
    "        for comb in range(1,len(similar_services)+1):\n",
    "            \n",
    "            print(f\"\\n\\n--------Checking For the Combinations with length {comb}.--------\\n\\n\")\n",
    "            \n",
    "            list_of_postconds,combs = postcondition_generator(similar_services,list_of_services,selection=comb)\n",
    "            #print(len(list_of_postconds), comb)\n",
    "            \n",
    "            \n",
    "            result,runs = check_entailment(goal,list_of_postconds)\n",
    "            \n",
    "            if (result['Entailment'] >= 80):\n",
    "                \n",
    "                alignment_dict['Goal'+str(i)] = (combs[runs-1],result['Entailment'])\n",
    "                \n",
    "                print(f\"\\n\\nReached the benchmark probability at combination of {comb} and at the run {runs-1}\\n\\n\")\n",
    "                \n",
    "                break\n",
    "                \n",
    "            else:\n",
    "                \n",
    "                max_list.append((combs[runs-1],result['Entailment']))\n",
    "                \n",
    "                alignment_dict['Goal'+str(i)] = max(max_list,key=itemgetter(1))\n",
    "                \n",
    "                continue\n",
    "            \n",
    "        \n",
    "    \n",
    "    return alignment_dict"
   ]
  },
  {
   "cell_type": "code",
   "execution_count": 85,
   "id": "99bc43c4",
   "metadata": {
    "scrolled": true
   },
   "outputs": [
    {
     "name": "stdout",
     "output_type": "stream",
     "text": [
      "\n",
      "\n",
      "-----Checking for the Goal 0------\n",
      "\n",
      "\n",
      "\n",
      "\n",
      "--------Checking For the Combinations with length 1.--------\n",
      "\n",
      "\n"
     ]
    },
    {
     "name": "stderr",
     "output_type": "stream",
     "text": [
      " 90%|██████████████████████████████████████████████████████████████████████████▋        | 9/10 [00:06<00:00,  1.45it/s]\n"
     ]
    },
    {
     "name": "stdout",
     "output_type": "stream",
     "text": [
      "Benchmark probability not reached\n",
      "\n",
      "\n",
      "--------Checking For the Combinations with length 2.--------\n",
      "\n",
      "\n"
     ]
    },
    {
     "name": "stderr",
     "output_type": "stream",
     "text": [
      " 98%|████████████████████████████████████████████████████████████████████████████████▏ | 44/45 [00:41<00:00,  1.06it/s]\n"
     ]
    },
    {
     "name": "stdout",
     "output_type": "stream",
     "text": [
      "Benchmark probability not reached\n",
      "\n",
      "\n",
      "--------Checking For the Combinations with length 3.--------\n",
      "\n",
      "\n"
     ]
    },
    {
     "name": "stderr",
     "output_type": "stream",
     "text": [
      " 99%|███████████████████████████████████████████████████████████████████████████████▎| 119/120 [02:04<00:01,  1.05s/it]\n"
     ]
    },
    {
     "name": "stdout",
     "output_type": "stream",
     "text": [
      "Benchmark probability not reached\n",
      "\n",
      "\n",
      "--------Checking For the Combinations with length 4.--------\n",
      "\n",
      "\n"
     ]
    },
    {
     "name": "stderr",
     "output_type": "stream",
     "text": [
      "100%|███████████████████████████████████████████████████████████████████████████████▌| 209/210 [04:11<00:01,  1.20s/it]\n"
     ]
    },
    {
     "name": "stdout",
     "output_type": "stream",
     "text": [
      "Benchmark probability not reached\n",
      "\n",
      "\n",
      "--------Checking For the Combinations with length 5.--------\n",
      "\n",
      "\n"
     ]
    },
    {
     "name": "stderr",
     "output_type": "stream",
     "text": [
      "100%|███████████████████████████████████████████████████████████████████████████████▋| 251/252 [05:53<00:01,  1.41s/it]\n"
     ]
    },
    {
     "name": "stdout",
     "output_type": "stream",
     "text": [
      "Benchmark probability not reached\n",
      "\n",
      "\n",
      "--------Checking For the Combinations with length 6.--------\n",
      "\n",
      "\n"
     ]
    },
    {
     "name": "stderr",
     "output_type": "stream",
     "text": [
      "100%|███████████████████████████████████████████████████████████████████████████████▌| 209/210 [05:50<00:01,  1.68s/it]\n"
     ]
    },
    {
     "name": "stdout",
     "output_type": "stream",
     "text": [
      "Benchmark probability not reached\n",
      "\n",
      "\n",
      "--------Checking For the Combinations with length 7.--------\n",
      "\n",
      "\n"
     ]
    },
    {
     "name": "stderr",
     "output_type": "stream",
     "text": [
      " 99%|███████████████████████████████████████████████████████████████████████████████▎| 119/120 [04:01<00:02,  2.03s/it]\n"
     ]
    },
    {
     "name": "stdout",
     "output_type": "stream",
     "text": [
      "Benchmark probability not reached\n",
      "\n",
      "\n",
      "--------Checking For the Combinations with length 8.--------\n",
      "\n",
      "\n"
     ]
    },
    {
     "name": "stderr",
     "output_type": "stream",
     "text": [
      " 98%|████████████████████████████████████████████████████████████████████████████████▏ | 44/45 [01:38<00:02,  2.23s/it]\n"
     ]
    },
    {
     "name": "stdout",
     "output_type": "stream",
     "text": [
      "Benchmark probability not reached\n",
      "\n",
      "\n",
      "--------Checking For the Combinations with length 9.--------\n",
      "\n",
      "\n"
     ]
    },
    {
     "name": "stderr",
     "output_type": "stream",
     "text": [
      " 90%|██████████████████████████████████████████████████████████████████████████▋        | 9/10 [00:20<00:02,  2.24s/it]\n"
     ]
    },
    {
     "name": "stdout",
     "output_type": "stream",
     "text": [
      "Benchmark probability not reached\n",
      "\n",
      "\n",
      "--------Checking For the Combinations with length 10.--------\n",
      "\n",
      "\n"
     ]
    },
    {
     "name": "stderr",
     "output_type": "stream",
     "text": [
      "  0%|                                                                                            | 0/1 [00:00<?, ?it/s]\n"
     ]
    },
    {
     "name": "stdout",
     "output_type": "stream",
     "text": [
      "Benchmark probability not reached\n",
      "\n",
      "\n",
      "-----Checking for the Goal 1------\n",
      "\n",
      "\n",
      "\n",
      "\n",
      "--------Checking For the Combinations with length 1.--------\n",
      "\n",
      "\n"
     ]
    },
    {
     "name": "stderr",
     "output_type": "stream",
     "text": [
      " 90%|██████████████████████████████████████████████████████████████████████████▋        | 9/10 [00:05<00:00,  1.70it/s]\n"
     ]
    },
    {
     "name": "stdout",
     "output_type": "stream",
     "text": [
      "Benchmark probability not reached\n",
      "\n",
      "\n",
      "--------Checking For the Combinations with length 2.--------\n",
      "\n",
      "\n"
     ]
    },
    {
     "name": "stderr",
     "output_type": "stream",
     "text": [
      " 98%|████████████████████████████████████████████████████████████████████████████████▏ | 44/45 [00:30<00:00,  1.45it/s]\n"
     ]
    },
    {
     "name": "stdout",
     "output_type": "stream",
     "text": [
      "Benchmark probability not reached\n",
      "\n",
      "\n",
      "--------Checking For the Combinations with length 3.--------\n",
      "\n",
      "\n"
     ]
    },
    {
     "name": "stderr",
     "output_type": "stream",
     "text": [
      " 99%|███████████████████████████████████████████████████████████████████████████████▎| 119/120 [01:40<00:00,  1.18it/s]\n"
     ]
    },
    {
     "name": "stdout",
     "output_type": "stream",
     "text": [
      "Benchmark probability not reached\n",
      "\n",
      "\n",
      "--------Checking For the Combinations with length 4.--------\n",
      "\n",
      "\n"
     ]
    },
    {
     "name": "stderr",
     "output_type": "stream",
     "text": [
      "100%|███████████████████████████████████████████████████████████████████████████████▌| 209/210 [03:37<00:01,  1.04s/it]\n"
     ]
    },
    {
     "name": "stdout",
     "output_type": "stream",
     "text": [
      "Benchmark probability not reached\n",
      "\n",
      "\n",
      "--------Checking For the Combinations with length 5.--------\n",
      "\n",
      "\n"
     ]
    },
    {
     "name": "stderr",
     "output_type": "stream",
     "text": [
      "100%|███████████████████████████████████████████████████████████████████████████████▋| 251/252 [04:42<00:01,  1.12s/it]\n"
     ]
    },
    {
     "name": "stdout",
     "output_type": "stream",
     "text": [
      "Benchmark probability not reached\n",
      "\n",
      "\n",
      "--------Checking For the Combinations with length 6.--------\n",
      "\n",
      "\n"
     ]
    },
    {
     "name": "stderr",
     "output_type": "stream",
     "text": [
      " 12%|██████████                                                                       | 26/210 [00:33<03:52,  1.27s/it]"
     ]
    },
    {
     "ename": "KeyboardInterrupt",
     "evalue": "",
     "output_type": "error",
     "traceback": [
      "\u001b[1;31m---------------------------------------------------------------------------\u001b[0m",
      "\u001b[1;31mKeyboardInterrupt\u001b[0m                         Traceback (most recent call last)",
      "\u001b[1;32m<ipython-input-85-3b358220333e>\u001b[0m in \u001b[0;36m<module>\u001b[1;34m\u001b[0m\n\u001b[1;32m----> 1\u001b[1;33m \u001b[0malignment_dict\u001b[0m \u001b[1;33m=\u001b[0m \u001b[0mservice_alignment\u001b[0m\u001b[1;33m(\u001b[0m\u001b[0mlist_of_goals\u001b[0m\u001b[1;33m,\u001b[0m\u001b[0mgoals_service_sim\u001b[0m\u001b[1;33m,\u001b[0m\u001b[0mlist_of_services\u001b[0m\u001b[1;33m)\u001b[0m\u001b[1;33m\u001b[0m\u001b[1;33m\u001b[0m\u001b[0m\n\u001b[0m",
      "\u001b[1;32m<ipython-input-84-7c9e3f5ab448>\u001b[0m in \u001b[0;36mservice_alignment\u001b[1;34m(list_of_goals, goals_service_sim, list_of_services)\u001b[0m\n\u001b[0;32m     19\u001b[0m \u001b[1;33m\u001b[0m\u001b[0m\n\u001b[0;32m     20\u001b[0m \u001b[1;33m\u001b[0m\u001b[0m\n\u001b[1;32m---> 21\u001b[1;33m             \u001b[0mresult\u001b[0m\u001b[1;33m,\u001b[0m\u001b[0mruns\u001b[0m \u001b[1;33m=\u001b[0m \u001b[0mcheck_entailment\u001b[0m\u001b[1;33m(\u001b[0m\u001b[0mgoal\u001b[0m\u001b[1;33m,\u001b[0m\u001b[0mlist_of_postconds\u001b[0m\u001b[1;33m)\u001b[0m\u001b[1;33m\u001b[0m\u001b[1;33m\u001b[0m\u001b[0m\n\u001b[0m\u001b[0;32m     22\u001b[0m \u001b[1;33m\u001b[0m\u001b[0m\n\u001b[0;32m     23\u001b[0m             \u001b[1;32mif\u001b[0m \u001b[1;33m(\u001b[0m\u001b[0mresult\u001b[0m\u001b[1;33m[\u001b[0m\u001b[1;34m'Entailment'\u001b[0m\u001b[1;33m]\u001b[0m \u001b[1;33m>=\u001b[0m \u001b[1;36m80\u001b[0m\u001b[1;33m)\u001b[0m\u001b[1;33m:\u001b[0m\u001b[1;33m\u001b[0m\u001b[1;33m\u001b[0m\u001b[0m\n",
      "\u001b[1;32m<ipython-input-83-03a181d7bc38>\u001b[0m in \u001b[0;36mcheck_entailment\u001b[1;34m(goal, list_of_postconds)\u001b[0m\n\u001b[0;32m     13\u001b[0m \u001b[1;33m\u001b[0m\u001b[0m\n\u001b[0;32m     14\u001b[0m         \u001b[1;32mtry\u001b[0m\u001b[1;33m:\u001b[0m\u001b[1;33m\u001b[0m\u001b[1;33m\u001b[0m\u001b[0m\n\u001b[1;32m---> 15\u001b[1;33m             \u001b[0mnewresult\u001b[0m \u001b[1;33m=\u001b[0m \u001b[0mroberta_probability\u001b[0m\u001b[1;33m(\u001b[0m\u001b[0mlist_of_postconds\u001b[0m\u001b[1;33m[\u001b[0m\u001b[0mruns\u001b[0m\u001b[1;33m]\u001b[0m\u001b[1;33m,\u001b[0m\u001b[0mgoal\u001b[0m\u001b[1;33m)\u001b[0m\u001b[1;33m\u001b[0m\u001b[1;33m\u001b[0m\u001b[0m\n\u001b[0m\u001b[0;32m     16\u001b[0m \u001b[1;33m\u001b[0m\u001b[0m\n\u001b[0;32m     17\u001b[0m             \u001b[1;32mif\u001b[0m \u001b[0mnewresult\u001b[0m\u001b[1;33m[\u001b[0m\u001b[1;34m'Entailment'\u001b[0m\u001b[1;33m]\u001b[0m \u001b[1;33m>\u001b[0m \u001b[0mresult\u001b[0m\u001b[1;33m[\u001b[0m\u001b[1;34m'Entailment'\u001b[0m\u001b[1;33m]\u001b[0m\u001b[1;33m:\u001b[0m\u001b[1;33m\u001b[0m\u001b[1;33m\u001b[0m\u001b[0m\n",
      "\u001b[1;32m<ipython-input-53-19410ac71ffc>\u001b[0m in \u001b[0;36mroberta_probability\u001b[1;34m(sentence1, sentence2)\u001b[0m\n\u001b[0;32m      7\u001b[0m \u001b[1;33m\u001b[0m\u001b[0m\n\u001b[0;32m      8\u001b[0m \u001b[1;33m\u001b[0m\u001b[0m\n\u001b[1;32m----> 9\u001b[1;33m     \u001b[0mlogits\u001b[0m \u001b[1;33m=\u001b[0m \u001b[0mmodel_rob\u001b[0m\u001b[1;33m.\u001b[0m\u001b[0mforward\u001b[0m\u001b[1;33m(\u001b[0m\u001b[0mid1\u001b[0m\u001b[1;33m,\u001b[0m \u001b[0mreturn_dict\u001b[0m\u001b[1;33m=\u001b[0m\u001b[1;32mTrue\u001b[0m\u001b[1;33m)\u001b[0m\u001b[1;33m.\u001b[0m\u001b[0mlogits\u001b[0m\u001b[1;33m\u001b[0m\u001b[1;33m\u001b[0m\u001b[0m\n\u001b[0m\u001b[0;32m     10\u001b[0m \u001b[1;33m\u001b[0m\u001b[0m\n\u001b[0;32m     11\u001b[0m     \u001b[0mp\u001b[0m \u001b[1;33m=\u001b[0m \u001b[0mtorch\u001b[0m\u001b[1;33m.\u001b[0m\u001b[0mnn\u001b[0m\u001b[1;33m.\u001b[0m\u001b[0mfunctional\u001b[0m\u001b[1;33m.\u001b[0m\u001b[0msoftmax\u001b[0m\u001b[1;33m(\u001b[0m\u001b[0mlogits\u001b[0m\u001b[1;33m,\u001b[0m \u001b[0mdim\u001b[0m\u001b[1;33m=\u001b[0m\u001b[1;36m1\u001b[0m\u001b[1;33m)\u001b[0m\u001b[1;33m\u001b[0m\u001b[1;33m\u001b[0m\u001b[0m\n",
      "\u001b[1;32m~\\Anaconda3\\lib\\site-packages\\transformers\\models\\roberta\\modeling_roberta.py\u001b[0m in \u001b[0;36mforward\u001b[1;34m(self, input_ids, attention_mask, token_type_ids, position_ids, head_mask, inputs_embeds, labels, output_attentions, output_hidden_states, return_dict)\u001b[0m\n\u001b[0;32m   1153\u001b[0m             \u001b[0moutput_attentions\u001b[0m\u001b[1;33m=\u001b[0m\u001b[0moutput_attentions\u001b[0m\u001b[1;33m,\u001b[0m\u001b[1;33m\u001b[0m\u001b[1;33m\u001b[0m\u001b[0m\n\u001b[0;32m   1154\u001b[0m             \u001b[0moutput_hidden_states\u001b[0m\u001b[1;33m=\u001b[0m\u001b[0moutput_hidden_states\u001b[0m\u001b[1;33m,\u001b[0m\u001b[1;33m\u001b[0m\u001b[1;33m\u001b[0m\u001b[0m\n\u001b[1;32m-> 1155\u001b[1;33m             \u001b[0mreturn_dict\u001b[0m\u001b[1;33m=\u001b[0m\u001b[0mreturn_dict\u001b[0m\u001b[1;33m,\u001b[0m\u001b[1;33m\u001b[0m\u001b[1;33m\u001b[0m\u001b[0m\n\u001b[0m\u001b[0;32m   1156\u001b[0m         )\n\u001b[0;32m   1157\u001b[0m         \u001b[0msequence_output\u001b[0m \u001b[1;33m=\u001b[0m \u001b[0moutputs\u001b[0m\u001b[1;33m[\u001b[0m\u001b[1;36m0\u001b[0m\u001b[1;33m]\u001b[0m\u001b[1;33m\u001b[0m\u001b[1;33m\u001b[0m\u001b[0m\n",
      "\u001b[1;32m~\\Anaconda3\\lib\\site-packages\\torch\\nn\\modules\\module.py\u001b[0m in \u001b[0;36m_call_impl\u001b[1;34m(self, *input, **kwargs)\u001b[0m\n\u001b[0;32m    887\u001b[0m             \u001b[0mresult\u001b[0m \u001b[1;33m=\u001b[0m \u001b[0mself\u001b[0m\u001b[1;33m.\u001b[0m\u001b[0m_slow_forward\u001b[0m\u001b[1;33m(\u001b[0m\u001b[1;33m*\u001b[0m\u001b[0minput\u001b[0m\u001b[1;33m,\u001b[0m \u001b[1;33m**\u001b[0m\u001b[0mkwargs\u001b[0m\u001b[1;33m)\u001b[0m\u001b[1;33m\u001b[0m\u001b[1;33m\u001b[0m\u001b[0m\n\u001b[0;32m    888\u001b[0m         \u001b[1;32melse\u001b[0m\u001b[1;33m:\u001b[0m\u001b[1;33m\u001b[0m\u001b[1;33m\u001b[0m\u001b[0m\n\u001b[1;32m--> 889\u001b[1;33m             \u001b[0mresult\u001b[0m \u001b[1;33m=\u001b[0m \u001b[0mself\u001b[0m\u001b[1;33m.\u001b[0m\u001b[0mforward\u001b[0m\u001b[1;33m(\u001b[0m\u001b[1;33m*\u001b[0m\u001b[0minput\u001b[0m\u001b[1;33m,\u001b[0m \u001b[1;33m**\u001b[0m\u001b[0mkwargs\u001b[0m\u001b[1;33m)\u001b[0m\u001b[1;33m\u001b[0m\u001b[1;33m\u001b[0m\u001b[0m\n\u001b[0m\u001b[0;32m    890\u001b[0m         for hook in itertools.chain(\n\u001b[0;32m    891\u001b[0m                 \u001b[0m_global_forward_hooks\u001b[0m\u001b[1;33m.\u001b[0m\u001b[0mvalues\u001b[0m\u001b[1;33m(\u001b[0m\u001b[1;33m)\u001b[0m\u001b[1;33m,\u001b[0m\u001b[1;33m\u001b[0m\u001b[1;33m\u001b[0m\u001b[0m\n",
      "\u001b[1;32m~\\Anaconda3\\lib\\site-packages\\transformers\\models\\roberta\\modeling_roberta.py\u001b[0m in \u001b[0;36mforward\u001b[1;34m(self, input_ids, attention_mask, token_type_ids, position_ids, head_mask, inputs_embeds, encoder_hidden_states, encoder_attention_mask, past_key_values, use_cache, output_attentions, output_hidden_states, return_dict)\u001b[0m\n\u001b[0;32m    815\u001b[0m             \u001b[0moutput_attentions\u001b[0m\u001b[1;33m=\u001b[0m\u001b[0moutput_attentions\u001b[0m\u001b[1;33m,\u001b[0m\u001b[1;33m\u001b[0m\u001b[1;33m\u001b[0m\u001b[0m\n\u001b[0;32m    816\u001b[0m             \u001b[0moutput_hidden_states\u001b[0m\u001b[1;33m=\u001b[0m\u001b[0moutput_hidden_states\u001b[0m\u001b[1;33m,\u001b[0m\u001b[1;33m\u001b[0m\u001b[1;33m\u001b[0m\u001b[0m\n\u001b[1;32m--> 817\u001b[1;33m             \u001b[0mreturn_dict\u001b[0m\u001b[1;33m=\u001b[0m\u001b[0mreturn_dict\u001b[0m\u001b[1;33m,\u001b[0m\u001b[1;33m\u001b[0m\u001b[1;33m\u001b[0m\u001b[0m\n\u001b[0m\u001b[0;32m    818\u001b[0m         )\n\u001b[0;32m    819\u001b[0m         \u001b[0msequence_output\u001b[0m \u001b[1;33m=\u001b[0m \u001b[0mencoder_outputs\u001b[0m\u001b[1;33m[\u001b[0m\u001b[1;36m0\u001b[0m\u001b[1;33m]\u001b[0m\u001b[1;33m\u001b[0m\u001b[1;33m\u001b[0m\u001b[0m\n",
      "\u001b[1;32m~\\Anaconda3\\lib\\site-packages\\torch\\nn\\modules\\module.py\u001b[0m in \u001b[0;36m_call_impl\u001b[1;34m(self, *input, **kwargs)\u001b[0m\n\u001b[0;32m    887\u001b[0m             \u001b[0mresult\u001b[0m \u001b[1;33m=\u001b[0m \u001b[0mself\u001b[0m\u001b[1;33m.\u001b[0m\u001b[0m_slow_forward\u001b[0m\u001b[1;33m(\u001b[0m\u001b[1;33m*\u001b[0m\u001b[0minput\u001b[0m\u001b[1;33m,\u001b[0m \u001b[1;33m**\u001b[0m\u001b[0mkwargs\u001b[0m\u001b[1;33m)\u001b[0m\u001b[1;33m\u001b[0m\u001b[1;33m\u001b[0m\u001b[0m\n\u001b[0;32m    888\u001b[0m         \u001b[1;32melse\u001b[0m\u001b[1;33m:\u001b[0m\u001b[1;33m\u001b[0m\u001b[1;33m\u001b[0m\u001b[0m\n\u001b[1;32m--> 889\u001b[1;33m             \u001b[0mresult\u001b[0m \u001b[1;33m=\u001b[0m \u001b[0mself\u001b[0m\u001b[1;33m.\u001b[0m\u001b[0mforward\u001b[0m\u001b[1;33m(\u001b[0m\u001b[1;33m*\u001b[0m\u001b[0minput\u001b[0m\u001b[1;33m,\u001b[0m \u001b[1;33m**\u001b[0m\u001b[0mkwargs\u001b[0m\u001b[1;33m)\u001b[0m\u001b[1;33m\u001b[0m\u001b[1;33m\u001b[0m\u001b[0m\n\u001b[0m\u001b[0;32m    890\u001b[0m         for hook in itertools.chain(\n\u001b[0;32m    891\u001b[0m                 \u001b[0m_global_forward_hooks\u001b[0m\u001b[1;33m.\u001b[0m\u001b[0mvalues\u001b[0m\u001b[1;33m(\u001b[0m\u001b[1;33m)\u001b[0m\u001b[1;33m,\u001b[0m\u001b[1;33m\u001b[0m\u001b[1;33m\u001b[0m\u001b[0m\n",
      "\u001b[1;32m~\\Anaconda3\\lib\\site-packages\\transformers\\models\\roberta\\modeling_roberta.py\u001b[0m in \u001b[0;36mforward\u001b[1;34m(self, hidden_states, attention_mask, head_mask, encoder_hidden_states, encoder_attention_mask, past_key_values, use_cache, output_attentions, output_hidden_states, return_dict)\u001b[0m\n\u001b[0;32m    512\u001b[0m                     \u001b[0mencoder_attention_mask\u001b[0m\u001b[1;33m,\u001b[0m\u001b[1;33m\u001b[0m\u001b[1;33m\u001b[0m\u001b[0m\n\u001b[0;32m    513\u001b[0m                     \u001b[0mpast_key_value\u001b[0m\u001b[1;33m,\u001b[0m\u001b[1;33m\u001b[0m\u001b[1;33m\u001b[0m\u001b[0m\n\u001b[1;32m--> 514\u001b[1;33m                     \u001b[0moutput_attentions\u001b[0m\u001b[1;33m,\u001b[0m\u001b[1;33m\u001b[0m\u001b[1;33m\u001b[0m\u001b[0m\n\u001b[0m\u001b[0;32m    515\u001b[0m                 )\n\u001b[0;32m    516\u001b[0m \u001b[1;33m\u001b[0m\u001b[0m\n",
      "\u001b[1;32m~\\Anaconda3\\lib\\site-packages\\torch\\nn\\modules\\module.py\u001b[0m in \u001b[0;36m_call_impl\u001b[1;34m(self, *input, **kwargs)\u001b[0m\n\u001b[0;32m    887\u001b[0m             \u001b[0mresult\u001b[0m \u001b[1;33m=\u001b[0m \u001b[0mself\u001b[0m\u001b[1;33m.\u001b[0m\u001b[0m_slow_forward\u001b[0m\u001b[1;33m(\u001b[0m\u001b[1;33m*\u001b[0m\u001b[0minput\u001b[0m\u001b[1;33m,\u001b[0m \u001b[1;33m**\u001b[0m\u001b[0mkwargs\u001b[0m\u001b[1;33m)\u001b[0m\u001b[1;33m\u001b[0m\u001b[1;33m\u001b[0m\u001b[0m\n\u001b[0;32m    888\u001b[0m         \u001b[1;32melse\u001b[0m\u001b[1;33m:\u001b[0m\u001b[1;33m\u001b[0m\u001b[1;33m\u001b[0m\u001b[0m\n\u001b[1;32m--> 889\u001b[1;33m             \u001b[0mresult\u001b[0m \u001b[1;33m=\u001b[0m \u001b[0mself\u001b[0m\u001b[1;33m.\u001b[0m\u001b[0mforward\u001b[0m\u001b[1;33m(\u001b[0m\u001b[1;33m*\u001b[0m\u001b[0minput\u001b[0m\u001b[1;33m,\u001b[0m \u001b[1;33m**\u001b[0m\u001b[0mkwargs\u001b[0m\u001b[1;33m)\u001b[0m\u001b[1;33m\u001b[0m\u001b[1;33m\u001b[0m\u001b[0m\n\u001b[0m\u001b[0;32m    890\u001b[0m         for hook in itertools.chain(\n\u001b[0;32m    891\u001b[0m                 \u001b[0m_global_forward_hooks\u001b[0m\u001b[1;33m.\u001b[0m\u001b[0mvalues\u001b[0m\u001b[1;33m(\u001b[0m\u001b[1;33m)\u001b[0m\u001b[1;33m,\u001b[0m\u001b[1;33m\u001b[0m\u001b[1;33m\u001b[0m\u001b[0m\n",
      "\u001b[1;32m~\\Anaconda3\\lib\\site-packages\\transformers\\models\\roberta\\modeling_roberta.py\u001b[0m in \u001b[0;36mforward\u001b[1;34m(self, hidden_states, attention_mask, head_mask, encoder_hidden_states, encoder_attention_mask, past_key_value, output_attentions)\u001b[0m\n\u001b[0;32m    397\u001b[0m             \u001b[0mhead_mask\u001b[0m\u001b[1;33m,\u001b[0m\u001b[1;33m\u001b[0m\u001b[1;33m\u001b[0m\u001b[0m\n\u001b[0;32m    398\u001b[0m             \u001b[0moutput_attentions\u001b[0m\u001b[1;33m=\u001b[0m\u001b[0moutput_attentions\u001b[0m\u001b[1;33m,\u001b[0m\u001b[1;33m\u001b[0m\u001b[1;33m\u001b[0m\u001b[0m\n\u001b[1;32m--> 399\u001b[1;33m             \u001b[0mpast_key_value\u001b[0m\u001b[1;33m=\u001b[0m\u001b[0mself_attn_past_key_value\u001b[0m\u001b[1;33m,\u001b[0m\u001b[1;33m\u001b[0m\u001b[1;33m\u001b[0m\u001b[0m\n\u001b[0m\u001b[0;32m    400\u001b[0m         )\n\u001b[0;32m    401\u001b[0m         \u001b[0mattention_output\u001b[0m \u001b[1;33m=\u001b[0m \u001b[0mself_attention_outputs\u001b[0m\u001b[1;33m[\u001b[0m\u001b[1;36m0\u001b[0m\u001b[1;33m]\u001b[0m\u001b[1;33m\u001b[0m\u001b[1;33m\u001b[0m\u001b[0m\n",
      "\u001b[1;32m~\\Anaconda3\\lib\\site-packages\\torch\\nn\\modules\\module.py\u001b[0m in \u001b[0;36m_call_impl\u001b[1;34m(self, *input, **kwargs)\u001b[0m\n\u001b[0;32m    887\u001b[0m             \u001b[0mresult\u001b[0m \u001b[1;33m=\u001b[0m \u001b[0mself\u001b[0m\u001b[1;33m.\u001b[0m\u001b[0m_slow_forward\u001b[0m\u001b[1;33m(\u001b[0m\u001b[1;33m*\u001b[0m\u001b[0minput\u001b[0m\u001b[1;33m,\u001b[0m \u001b[1;33m**\u001b[0m\u001b[0mkwargs\u001b[0m\u001b[1;33m)\u001b[0m\u001b[1;33m\u001b[0m\u001b[1;33m\u001b[0m\u001b[0m\n\u001b[0;32m    888\u001b[0m         \u001b[1;32melse\u001b[0m\u001b[1;33m:\u001b[0m\u001b[1;33m\u001b[0m\u001b[1;33m\u001b[0m\u001b[0m\n\u001b[1;32m--> 889\u001b[1;33m             \u001b[0mresult\u001b[0m \u001b[1;33m=\u001b[0m \u001b[0mself\u001b[0m\u001b[1;33m.\u001b[0m\u001b[0mforward\u001b[0m\u001b[1;33m(\u001b[0m\u001b[1;33m*\u001b[0m\u001b[0minput\u001b[0m\u001b[1;33m,\u001b[0m \u001b[1;33m**\u001b[0m\u001b[0mkwargs\u001b[0m\u001b[1;33m)\u001b[0m\u001b[1;33m\u001b[0m\u001b[1;33m\u001b[0m\u001b[0m\n\u001b[0m\u001b[0;32m    890\u001b[0m         for hook in itertools.chain(\n\u001b[0;32m    891\u001b[0m                 \u001b[0m_global_forward_hooks\u001b[0m\u001b[1;33m.\u001b[0m\u001b[0mvalues\u001b[0m\u001b[1;33m(\u001b[0m\u001b[1;33m)\u001b[0m\u001b[1;33m,\u001b[0m\u001b[1;33m\u001b[0m\u001b[1;33m\u001b[0m\u001b[0m\n",
      "\u001b[1;32m~\\Anaconda3\\lib\\site-packages\\transformers\\models\\roberta\\modeling_roberta.py\u001b[0m in \u001b[0;36mforward\u001b[1;34m(self, hidden_states, attention_mask, head_mask, encoder_hidden_states, encoder_attention_mask, past_key_value, output_attentions)\u001b[0m\n\u001b[0;32m    327\u001b[0m             \u001b[0mencoder_attention_mask\u001b[0m\u001b[1;33m,\u001b[0m\u001b[1;33m\u001b[0m\u001b[1;33m\u001b[0m\u001b[0m\n\u001b[0;32m    328\u001b[0m             \u001b[0mpast_key_value\u001b[0m\u001b[1;33m,\u001b[0m\u001b[1;33m\u001b[0m\u001b[1;33m\u001b[0m\u001b[0m\n\u001b[1;32m--> 329\u001b[1;33m             \u001b[0moutput_attentions\u001b[0m\u001b[1;33m,\u001b[0m\u001b[1;33m\u001b[0m\u001b[1;33m\u001b[0m\u001b[0m\n\u001b[0m\u001b[0;32m    330\u001b[0m         )\n\u001b[0;32m    331\u001b[0m         \u001b[0mattention_output\u001b[0m \u001b[1;33m=\u001b[0m \u001b[0mself\u001b[0m\u001b[1;33m.\u001b[0m\u001b[0moutput\u001b[0m\u001b[1;33m(\u001b[0m\u001b[0mself_outputs\u001b[0m\u001b[1;33m[\u001b[0m\u001b[1;36m0\u001b[0m\u001b[1;33m]\u001b[0m\u001b[1;33m,\u001b[0m \u001b[0mhidden_states\u001b[0m\u001b[1;33m)\u001b[0m\u001b[1;33m\u001b[0m\u001b[1;33m\u001b[0m\u001b[0m\n",
      "\u001b[1;32m~\\Anaconda3\\lib\\site-packages\\torch\\nn\\modules\\module.py\u001b[0m in \u001b[0;36m_call_impl\u001b[1;34m(self, *input, **kwargs)\u001b[0m\n\u001b[0;32m    887\u001b[0m             \u001b[0mresult\u001b[0m \u001b[1;33m=\u001b[0m \u001b[0mself\u001b[0m\u001b[1;33m.\u001b[0m\u001b[0m_slow_forward\u001b[0m\u001b[1;33m(\u001b[0m\u001b[1;33m*\u001b[0m\u001b[0minput\u001b[0m\u001b[1;33m,\u001b[0m \u001b[1;33m**\u001b[0m\u001b[0mkwargs\u001b[0m\u001b[1;33m)\u001b[0m\u001b[1;33m\u001b[0m\u001b[1;33m\u001b[0m\u001b[0m\n\u001b[0;32m    888\u001b[0m         \u001b[1;32melse\u001b[0m\u001b[1;33m:\u001b[0m\u001b[1;33m\u001b[0m\u001b[1;33m\u001b[0m\u001b[0m\n\u001b[1;32m--> 889\u001b[1;33m             \u001b[0mresult\u001b[0m \u001b[1;33m=\u001b[0m \u001b[0mself\u001b[0m\u001b[1;33m.\u001b[0m\u001b[0mforward\u001b[0m\u001b[1;33m(\u001b[0m\u001b[1;33m*\u001b[0m\u001b[0minput\u001b[0m\u001b[1;33m,\u001b[0m \u001b[1;33m**\u001b[0m\u001b[0mkwargs\u001b[0m\u001b[1;33m)\u001b[0m\u001b[1;33m\u001b[0m\u001b[1;33m\u001b[0m\u001b[0m\n\u001b[0m\u001b[0;32m    890\u001b[0m         for hook in itertools.chain(\n\u001b[0;32m    891\u001b[0m                 \u001b[0m_global_forward_hooks\u001b[0m\u001b[1;33m.\u001b[0m\u001b[0mvalues\u001b[0m\u001b[1;33m(\u001b[0m\u001b[1;33m)\u001b[0m\u001b[1;33m,\u001b[0m\u001b[1;33m\u001b[0m\u001b[1;33m\u001b[0m\u001b[0m\n",
      "\u001b[1;32m~\\Anaconda3\\lib\\site-packages\\transformers\\models\\roberta\\modeling_roberta.py\u001b[0m in \u001b[0;36mforward\u001b[1;34m(self, hidden_states, attention_mask, head_mask, encoder_hidden_states, encoder_attention_mask, past_key_value, output_attentions)\u001b[0m\n\u001b[0;32m    184\u001b[0m         \u001b[0moutput_attentions\u001b[0m\u001b[1;33m=\u001b[0m\u001b[1;32mFalse\u001b[0m\u001b[1;33m,\u001b[0m\u001b[1;33m\u001b[0m\u001b[1;33m\u001b[0m\u001b[0m\n\u001b[0;32m    185\u001b[0m     ):\n\u001b[1;32m--> 186\u001b[1;33m         \u001b[0mmixed_query_layer\u001b[0m \u001b[1;33m=\u001b[0m \u001b[0mself\u001b[0m\u001b[1;33m.\u001b[0m\u001b[0mquery\u001b[0m\u001b[1;33m(\u001b[0m\u001b[0mhidden_states\u001b[0m\u001b[1;33m)\u001b[0m\u001b[1;33m\u001b[0m\u001b[1;33m\u001b[0m\u001b[0m\n\u001b[0m\u001b[0;32m    187\u001b[0m \u001b[1;33m\u001b[0m\u001b[0m\n\u001b[0;32m    188\u001b[0m         \u001b[1;31m# If this is instantiated as a cross-attention module, the keys\u001b[0m\u001b[1;33m\u001b[0m\u001b[1;33m\u001b[0m\u001b[1;33m\u001b[0m\u001b[0m\n",
      "\u001b[1;32m~\\Anaconda3\\lib\\site-packages\\torch\\nn\\modules\\module.py\u001b[0m in \u001b[0;36m_call_impl\u001b[1;34m(self, *input, **kwargs)\u001b[0m\n\u001b[0;32m    887\u001b[0m             \u001b[0mresult\u001b[0m \u001b[1;33m=\u001b[0m \u001b[0mself\u001b[0m\u001b[1;33m.\u001b[0m\u001b[0m_slow_forward\u001b[0m\u001b[1;33m(\u001b[0m\u001b[1;33m*\u001b[0m\u001b[0minput\u001b[0m\u001b[1;33m,\u001b[0m \u001b[1;33m**\u001b[0m\u001b[0mkwargs\u001b[0m\u001b[1;33m)\u001b[0m\u001b[1;33m\u001b[0m\u001b[1;33m\u001b[0m\u001b[0m\n\u001b[0;32m    888\u001b[0m         \u001b[1;32melse\u001b[0m\u001b[1;33m:\u001b[0m\u001b[1;33m\u001b[0m\u001b[1;33m\u001b[0m\u001b[0m\n\u001b[1;32m--> 889\u001b[1;33m             \u001b[0mresult\u001b[0m \u001b[1;33m=\u001b[0m \u001b[0mself\u001b[0m\u001b[1;33m.\u001b[0m\u001b[0mforward\u001b[0m\u001b[1;33m(\u001b[0m\u001b[1;33m*\u001b[0m\u001b[0minput\u001b[0m\u001b[1;33m,\u001b[0m \u001b[1;33m**\u001b[0m\u001b[0mkwargs\u001b[0m\u001b[1;33m)\u001b[0m\u001b[1;33m\u001b[0m\u001b[1;33m\u001b[0m\u001b[0m\n\u001b[0m\u001b[0;32m    890\u001b[0m         for hook in itertools.chain(\n\u001b[0;32m    891\u001b[0m                 \u001b[0m_global_forward_hooks\u001b[0m\u001b[1;33m.\u001b[0m\u001b[0mvalues\u001b[0m\u001b[1;33m(\u001b[0m\u001b[1;33m)\u001b[0m\u001b[1;33m,\u001b[0m\u001b[1;33m\u001b[0m\u001b[1;33m\u001b[0m\u001b[0m\n",
      "\u001b[1;32m~\\Anaconda3\\lib\\site-packages\\torch\\nn\\modules\\linear.py\u001b[0m in \u001b[0;36mforward\u001b[1;34m(self, input)\u001b[0m\n\u001b[0;32m     92\u001b[0m \u001b[1;33m\u001b[0m\u001b[0m\n\u001b[0;32m     93\u001b[0m     \u001b[1;32mdef\u001b[0m \u001b[0mforward\u001b[0m\u001b[1;33m(\u001b[0m\u001b[0mself\u001b[0m\u001b[1;33m,\u001b[0m \u001b[0minput\u001b[0m\u001b[1;33m:\u001b[0m \u001b[0mTensor\u001b[0m\u001b[1;33m)\u001b[0m \u001b[1;33m->\u001b[0m \u001b[0mTensor\u001b[0m\u001b[1;33m:\u001b[0m\u001b[1;33m\u001b[0m\u001b[1;33m\u001b[0m\u001b[0m\n\u001b[1;32m---> 94\u001b[1;33m         \u001b[1;32mreturn\u001b[0m \u001b[0mF\u001b[0m\u001b[1;33m.\u001b[0m\u001b[0mlinear\u001b[0m\u001b[1;33m(\u001b[0m\u001b[0minput\u001b[0m\u001b[1;33m,\u001b[0m \u001b[0mself\u001b[0m\u001b[1;33m.\u001b[0m\u001b[0mweight\u001b[0m\u001b[1;33m,\u001b[0m \u001b[0mself\u001b[0m\u001b[1;33m.\u001b[0m\u001b[0mbias\u001b[0m\u001b[1;33m)\u001b[0m\u001b[1;33m\u001b[0m\u001b[1;33m\u001b[0m\u001b[0m\n\u001b[0m\u001b[0;32m     95\u001b[0m \u001b[1;33m\u001b[0m\u001b[0m\n\u001b[0;32m     96\u001b[0m     \u001b[1;32mdef\u001b[0m \u001b[0mextra_repr\u001b[0m\u001b[1;33m(\u001b[0m\u001b[0mself\u001b[0m\u001b[1;33m)\u001b[0m \u001b[1;33m->\u001b[0m \u001b[0mstr\u001b[0m\u001b[1;33m:\u001b[0m\u001b[1;33m\u001b[0m\u001b[1;33m\u001b[0m\u001b[0m\n",
      "\u001b[1;32m~\\Anaconda3\\lib\\site-packages\\torch\\nn\\functional.py\u001b[0m in \u001b[0;36mlinear\u001b[1;34m(input, weight, bias)\u001b[0m\n\u001b[0;32m   1751\u001b[0m     \u001b[1;32mif\u001b[0m \u001b[0mhas_torch_function_variadic\u001b[0m\u001b[1;33m(\u001b[0m\u001b[0minput\u001b[0m\u001b[1;33m,\u001b[0m \u001b[0mweight\u001b[0m\u001b[1;33m)\u001b[0m\u001b[1;33m:\u001b[0m\u001b[1;33m\u001b[0m\u001b[1;33m\u001b[0m\u001b[0m\n\u001b[0;32m   1752\u001b[0m         \u001b[1;32mreturn\u001b[0m \u001b[0mhandle_torch_function\u001b[0m\u001b[1;33m(\u001b[0m\u001b[0mlinear\u001b[0m\u001b[1;33m,\u001b[0m \u001b[1;33m(\u001b[0m\u001b[0minput\u001b[0m\u001b[1;33m,\u001b[0m \u001b[0mweight\u001b[0m\u001b[1;33m)\u001b[0m\u001b[1;33m,\u001b[0m \u001b[0minput\u001b[0m\u001b[1;33m,\u001b[0m \u001b[0mweight\u001b[0m\u001b[1;33m,\u001b[0m \u001b[0mbias\u001b[0m\u001b[1;33m=\u001b[0m\u001b[0mbias\u001b[0m\u001b[1;33m)\u001b[0m\u001b[1;33m\u001b[0m\u001b[1;33m\u001b[0m\u001b[0m\n\u001b[1;32m-> 1753\u001b[1;33m     \u001b[1;32mreturn\u001b[0m \u001b[0mtorch\u001b[0m\u001b[1;33m.\u001b[0m\u001b[0m_C\u001b[0m\u001b[1;33m.\u001b[0m\u001b[0m_nn\u001b[0m\u001b[1;33m.\u001b[0m\u001b[0mlinear\u001b[0m\u001b[1;33m(\u001b[0m\u001b[0minput\u001b[0m\u001b[1;33m,\u001b[0m \u001b[0mweight\u001b[0m\u001b[1;33m,\u001b[0m \u001b[0mbias\u001b[0m\u001b[1;33m)\u001b[0m\u001b[1;33m\u001b[0m\u001b[1;33m\u001b[0m\u001b[0m\n\u001b[0m\u001b[0;32m   1754\u001b[0m \u001b[1;33m\u001b[0m\u001b[0m\n\u001b[0;32m   1755\u001b[0m \u001b[1;33m\u001b[0m\u001b[0m\n",
      "\u001b[1;31mKeyboardInterrupt\u001b[0m: "
     ]
    }
   ],
   "source": [
    "alignment_dict = service_alignment(list_of_goals,goals_service_sim,list_of_services)"
   ]
  },
  {
   "cell_type": "code",
   "execution_count": null,
   "id": "23bc7011",
   "metadata": {},
   "outputs": [],
   "source": [
    "print(alignment_dict)"
   ]
  },
  {
   "cell_type": "markdown",
   "id": "752ebb55",
   "metadata": {},
   "source": [
    "###  Evaluation and results"
   ]
  },
  {
   "cell_type": "code",
   "execution_count": null,
   "id": "0371d88a",
   "metadata": {},
   "outputs": [],
   "source": [
    "strategy_service_alignment = {}\n",
    "for (key,value) in alignment_dict.items():\n",
    "    \n",
    "    goal = list_of_goals[int(key[-1])]\n",
    "    services = [i[0] for i in value[0]]\n",
    "    \n",
    "    postconditions = ''\n",
    "    \n",
    "    for i in services:\n",
    "        \n",
    "        postconditions += list_of_services[i].description \n",
    "        postconditions += '. '\n",
    "        \n",
    "    probability = value[-1]\n",
    "    \n",
    "    aligned_services = [list_of_services[i].name for i in services]\n",
    "    \n",
    "    strategy_service_alignment[key] = {'Goal': goal,\n",
    "                                       'Number of Services': len(aligned_services),\n",
    "                                       'Aligned_services': aligned_services,\n",
    "                                       'Postconditions' : postconditions,\n",
    "                                       'Max_probability': probability}\n",
    "    \n",
    "    \n",
    "    \n",
    "    "
   ]
  },
  {
   "cell_type": "code",
   "execution_count": null,
   "id": "453639db",
   "metadata": {},
   "outputs": [],
   "source": [
    "strategy_service_alignment"
   ]
  },
  {
   "cell_type": "code",
   "execution_count": null,
   "id": "1cbcd001",
   "metadata": {},
   "outputs": [],
   "source": [
    "alignment_df = pd.DataFrame(strategy_service_alignment)\n",
    "alignment_df"
   ]
  },
  {
   "cell_type": "code",
   "execution_count": null,
   "id": "f2b379eb",
   "metadata": {},
   "outputs": [],
   "source": [
    "alignment_df.to_csv(r'service_strategy_alignment.csv')"
   ]
  },
  {
   "cell_type": "markdown",
   "id": "54ce9440",
   "metadata": {},
   "source": [
    "### Motivating Example"
   ]
  },
  {
   "cell_type": "code",
   "execution_count": 51,
   "id": "0ee94a2c",
   "metadata": {},
   "outputs": [],
   "source": [
    "goals = ['Establish the customer at the centre of all programs and initiatives across the NSW Government',\n",
    "         'Deliver a more consistent and efficient digital experience with government.',\n",
    "         'Use data and behavioural insights to drive customer service improvements.',\n",
    "         'Engage more effectively with the people of New South Wales.']\n",
    "\n",
    "Services = {\"Incident Management\":\"\"\"Incident Management provides the management and resolution of service faults.Incidents include unplanned service interruptions, reduction in service quality, or service performance outside of the  service specification as defined in the Service Requirements.\"\"\",\n",
    "           \"Problem Management\":\"\"\"Problem Management is the process of identifying and eliminating or, where agreed, working around the root cause of problems within the scope of services. Problems may sometimes be identified because of multiple Incidents that exhibit common symptoms. Problems can also be identified from a single significant Incident, indicative of a single error, for which the cause is unknown. Occasionally Problems will be identified well before any relatedIncidents occur\"\"\",\n",
    "           \"Request Fulfilment\":\"\"\"Request Fulfilment provides management and resolution of Service Requests generated by the Eligible Customer. A Service Request is a generic description for varying types of user requests, e.g. activate or de-activate a service, move a service, modify a service parameter, issue a replacement SIM for a mobile user, or change the content or format of an existing report, asset configuration information\",\n",
    "           \"Change Management\":\"The Change Management process is for controlling the Supplier’s lifecycle of change to all managed services, the underlying components, documentation and configuration items specified within these services.\"\"\",\n",
    "           \"Availability Management\":\"\"\"The Availability Management process exists to ensure that the availability target for services are met or exceeded by measuring, analysing service performance and improving aspects of service provision.\"\"\",\n",
    "           \"Information Security Management\":\"\"\"Information Security Management aims to ensure the confidentiality, integrity and availability of an organisation's information, data and services\",\n",
    "           \"Service level Management\":\"The Service Level Management process is a constant cycle of monitoring, reviewing and reporting on service achievements and instigating actions to eradicate poor performance or improve current Service Levels.\"\"\",\n",
    "           \"Event Management\":\"\"\"Event Management is the monitoring and detecting any deviation from normal or expected operation and the management of any occurrence tha has significance to the delivery of services.\"\"\",\n",
    "           \"Release Management\":\"\"\"Release Management is the process of governing and ensuring the planning, building and controlling of approved releases through testing and pre-production environments. Releases include firmware and software updates to Supplier environments and equipment to maintain supportability, provide bug and security fixes and to provide new capability.\"\"\",\n",
    "           \"Asset and Configuration Management\":\"\"\"The Asset and Configuration Management process is for the maintenance of information regarding all managed components, their attributes and their relationship to other configuration items.\"\"\",\n",
    "           \"Demand Management\":\"\"\"Demand Management aims to understand, anticipate and influence Eligible Customer demand for services. This process works with Capacity Management to ensure that the Supplier has sufficient capacity to meet the required demand for services\"\"\",\n",
    "           \"Capacity Management\":\"\"\"Capacity Management is for understanding the Eligible Customer’s business’s working patterns such that the capacity and performance service levels are met by the service(s) and reported on.\"\"\",\n",
    "           \"Service Continuity Management\":\"\"\"The Service Continuity Management process ensures that, in the event of a disaster or business continuity event, the operations of the Eligible Customer’s business can continue in accordance with the Eligible Customer provided business continuity plan.\"\"\",\n",
    "           \"Knowledge Management\":\"\"\"Knowledge Management is for creating and maintaining a shared knowledge base relating to the managed components, documentation and all related configuration items.\"\"\"}"
   ]
  },
  {
   "cell_type": "code",
   "execution_count": 52,
   "id": "db233035",
   "metadata": {},
   "outputs": [],
   "source": [
    "def list_services(dictionary):\n",
    "    \n",
    "    list_of_services = []\n",
    "    for key,value in dictionary.items():\n",
    "        list_of_services.append(Service(str(key),filtering(str(value))))\n",
    "    \n",
    "    return list_of_services"
   ]
  },
  {
   "cell_type": "code",
   "execution_count": 53,
   "id": "c8c8dd2f",
   "metadata": {},
   "outputs": [
    {
     "data": {
      "text/plain": [
       "[<service.Service at 0x2088bff1608>,\n",
       " <service.Service at 0x2088bff1648>,\n",
       " <service.Service at 0x2088bff1688>,\n",
       " <service.Service at 0x2088bff16c8>,\n",
       " <service.Service at 0x2088bff1708>,\n",
       " <service.Service at 0x2088bff1788>,\n",
       " <service.Service at 0x2088bff17c8>,\n",
       " <service.Service at 0x2088bff1808>,\n",
       " <service.Service at 0x2088bff1848>,\n",
       " <service.Service at 0x2088bff1748>,\n",
       " <service.Service at 0x2088bff1888>,\n",
       " <service.Service at 0x2088bff18c8>]"
      ]
     },
     "execution_count": 53,
     "metadata": {},
     "output_type": "execute_result"
    }
   ],
   "source": [
    "service_list = list_services(Services)\n",
    "service_list"
   ]
  },
  {
   "cell_type": "code",
   "execution_count": 54,
   "id": "5bd09462",
   "metadata": {},
   "outputs": [
    {
     "data": {
      "text/plain": [
       "['Incident  Management  provides  the  management  and  resolution  of  service  faultsIncidents  include  unplanned  service  interruptions  reduction  in  service  quality  or  service  performance  outside  of  the    service  specification  as  defined  in  the  Service  Requirements',\n",
       " 'Problem  Management  is  the  process  of  identifying  and  eliminating  or  where  agreed  working  around  the  root  cause  of  problems  within  the  scope  of  services  Problems  may  sometimes  be  identified  because  of  multiple  Incidents  that  exhibit  common  symptoms  Problems  can  also  be  identified  from  a  single  significant  Incident  indicative  of  a  single  error  for  which  the  cause  is  unknown  Occasionally  Problems  will  be  identified  well  before  any  relatedIncidents  occur',\n",
       " 'Request  Fulfilment  provides  management  and  resolution  of  Service  Requests  generated  by  the  Eligible  Customer  A  Service  Request  is  a  generic  description  for  varying  types  of  user  requests  eg  activate  or  deactivate  a  service  move  a  service  modify  a  service  parameter  issue  a  replacement  SIM  for  a  mobile  user  or  change  the  content  or  format  of  an  existing  report  asset  configuration  information                      Change  ManagementThe  Change  Management  process  is  for  controlling  the  Suppliers  lifecycle  of  change  to  all  managed  services  the  underlying  components  documentation  and  configuration  items  specified  within  these  services',\n",
       " 'The  Availability  Management  process  exists  to  ensure  that  the  availability  target  for  services  are  met  or  exceeded  by  measuring  analysing  service  performance  and  improving  aspects  of  service  provision',\n",
       " 'Information  Security  Management  aims  to  ensure  the  confidentiality  integrity  and  availability  of  an  organisations  information  data  and  services                      Service  level  ManagementThe  Service  Level  Management  process  is  a  constant  cycle  of  monitoring  reviewing  and  reporting  on  service  achievements  and  instigating  actions  to  eradicate  poor  performance  or  improve  current  Service  Levels',\n",
       " 'Event  Management  is  the  monitoring  and  detecting  any  deviation  from  normal  or  expected  operation  and  the  management  of  any  occurrence  tha  has  significance  to  the  delivery  of  services',\n",
       " 'Release  Management  is  the  process  of  governing  and  ensuring  the  planning  building  and  controlling  of  approved  releases  through  testing  and  preproduction  environments  Releases  include  firmware  and  software  updates  to  Supplier  environments  and  equipment  to  maintain  supportability  provide  bug  and  security  fixes  and  to  provide  new  capability',\n",
       " 'The  Asset  and  Configuration  Management  process  is  for  the  maintenance  of  information  regarding  all  managed  components  their  attributes  and  their  relationship  to  other  configuration  items',\n",
       " 'Demand  Management  aims  to  understand  anticipate  and  influence  Eligible  Customer  demand  for  services  This  process  works  with  Capacity  Management  to  ensure  that  the  Supplier  has  sufficient  capacity  to  meet  the  required  demand  for  services',\n",
       " 'Capacity  Management  is  for  understanding  the  Eligible  Customers  businesss  working  patterns  such  that  the  capacity  and  performance  service  levels  are  met  by  the  services  and  reported  on',\n",
       " 'The  Service  Continuity  Management  process  ensures  that  in  the  event  of  a  disaster  or  business  continuity  event  the  operations  of  the  Eligible  Customers  business  can  continue  in  accordance  with  the  Eligible  Customer  provided  business  continuity  plan',\n",
       " '  Knowledge  Management  is  for  creating  and  maintaining  a  shared  knowledge  base  relating  to  the  managed  components  documentation  and  all  related  configuration  items']"
      ]
     },
     "execution_count": 54,
     "metadata": {},
     "output_type": "execute_result"
    }
   ],
   "source": [
    "sentences = [i.description for i in service_list]\n",
    "sentences"
   ]
  },
  {
   "cell_type": "code",
   "execution_count": 55,
   "id": "d95cf288",
   "metadata": {},
   "outputs": [
    {
     "data": {
      "text/plain": [
       "12"
      ]
     },
     "execution_count": 55,
     "metadata": {},
     "output_type": "execute_result"
    }
   ],
   "source": [
    "sentence_embeddings = sbert_model(sentences)\n",
    "len(sentence_embeddings)"
   ]
  },
  {
   "cell_type": "code",
   "execution_count": 56,
   "id": "7d282869",
   "metadata": {},
   "outputs": [
    {
     "data": {
      "text/plain": [
       "4"
      ]
     },
     "execution_count": 56,
     "metadata": {},
     "output_type": "execute_result"
    }
   ],
   "source": [
    "query_vecs = create_query_vecs(goals)\n",
    "len(query_vecs)"
   ]
  },
  {
   "cell_type": "code",
   "execution_count": 57,
   "id": "5ddd2509",
   "metadata": {},
   "outputs": [],
   "source": [
    "similarity_dict = create_similarity_dict(query_vecs,sentences)"
   ]
  },
  {
   "cell_type": "code",
   "execution_count": 58,
   "id": "2382b375",
   "metadata": {},
   "outputs": [
    {
     "data": {
      "text/plain": [
       "{'Goal0': [(11, 0.13503356),\n",
       "  (6, 0.08712955),\n",
       "  (7, 0.08337279),\n",
       "  (2, 0.04153053)],\n",
       " 'Goal1': [(3, 0.09447542),\n",
       "  (5, 0.09355744),\n",
       "  (4, 0.028850209),\n",
       "  (6, -0.00604078)],\n",
       " 'Goal2': [(4, 0.2918351), (3, 0.26373464), (9, 0.22082098), (0, 0.18571591)],\n",
       " 'Goal3': [(8, 0.03053531),\n",
       "  (2, 0.021051358),\n",
       "  (3, -0.01231242),\n",
       "  (6, -0.045007974)]}"
      ]
     },
     "execution_count": 58,
     "metadata": {},
     "output_type": "execute_result"
    }
   ],
   "source": [
    "goals_service_sim = get_topN_similarity(similarity_dict,4)\n",
    "goals_service_sim"
   ]
  },
  {
   "cell_type": "code",
   "execution_count": 59,
   "id": "64a2e5d7",
   "metadata": {},
   "outputs": [
    {
     "name": "stdout",
     "output_type": "stream",
     "text": [
      "\n",
      "\n",
      "-----Checking for the Goal 0------\n",
      "\n",
      "\n",
      "\n",
      "\n",
      "--------Checking For the Combinations with length 1.--------\n",
      "\n",
      "\n"
     ]
    },
    {
     "name": "stderr",
     "output_type": "stream",
     "text": [
      " 75%|███████████████████████████████████████████████████████████████                     | 3/4 [00:07<00:02,  2.45s/it]\n"
     ]
    },
    {
     "name": "stdout",
     "output_type": "stream",
     "text": [
      "Benchmark probability not reached\n",
      "\n",
      "\n",
      "--------Checking For the Combinations with length 2.--------\n",
      "\n",
      "\n"
     ]
    },
    {
     "name": "stderr",
     "output_type": "stream",
     "text": [
      " 83%|██████████████████████████████████████████████████████████████████████              | 5/6 [00:18<00:03,  3.74s/it]\n"
     ]
    },
    {
     "name": "stdout",
     "output_type": "stream",
     "text": [
      "Benchmark probability not reached\n",
      "\n",
      "\n",
      "--------Checking For the Combinations with length 3.--------\n",
      "\n",
      "\n"
     ]
    },
    {
     "name": "stderr",
     "output_type": "stream",
     "text": [
      " 75%|███████████████████████████████████████████████████████████████                     | 3/4 [00:17<00:05,  5.75s/it]\n"
     ]
    },
    {
     "name": "stdout",
     "output_type": "stream",
     "text": [
      "Benchmark probability not reached\n",
      "\n",
      "\n",
      "--------Checking For the Combinations with length 4.--------\n",
      "\n",
      "\n"
     ]
    },
    {
     "name": "stderr",
     "output_type": "stream",
     "text": [
      "  0%|                                                                                            | 0/1 [00:00<?, ?it/s]\n"
     ]
    },
    {
     "name": "stdout",
     "output_type": "stream",
     "text": [
      "Benchmark probability not reached\n",
      "\n",
      "\n",
      "-----Checking for the Goal 1------\n",
      "\n",
      "\n",
      "\n",
      "\n",
      "--------Checking For the Combinations with length 1.--------\n",
      "\n",
      "\n"
     ]
    },
    {
     "name": "stderr",
     "output_type": "stream",
     "text": [
      " 75%|███████████████████████████████████████████████████████████████                     | 3/4 [00:06<00:02,  2.11s/it]\n"
     ]
    },
    {
     "name": "stdout",
     "output_type": "stream",
     "text": [
      "Benchmark probability not reached\n",
      "\n",
      "\n",
      "--------Checking For the Combinations with length 2.--------\n",
      "\n",
      "\n"
     ]
    },
    {
     "name": "stderr",
     "output_type": "stream",
     "text": [
      " 83%|██████████████████████████████████████████████████████████████████████              | 5/6 [00:16<00:03,  3.39s/it]\n"
     ]
    },
    {
     "name": "stdout",
     "output_type": "stream",
     "text": [
      "Benchmark probability not reached\n",
      "\n",
      "\n",
      "--------Checking For the Combinations with length 3.--------\n",
      "\n",
      "\n"
     ]
    },
    {
     "name": "stderr",
     "output_type": "stream",
     "text": [
      " 75%|███████████████████████████████████████████████████████████████                     | 3/4 [00:14<00:04,  4.86s/it]\n"
     ]
    },
    {
     "name": "stdout",
     "output_type": "stream",
     "text": [
      "Benchmark probability not reached\n",
      "\n",
      "\n",
      "--------Checking For the Combinations with length 4.--------\n",
      "\n",
      "\n"
     ]
    },
    {
     "name": "stderr",
     "output_type": "stream",
     "text": [
      "  0%|                                                                                            | 0/1 [00:00<?, ?it/s]\n"
     ]
    },
    {
     "name": "stdout",
     "output_type": "stream",
     "text": [
      "Benchmark probability not reached\n",
      "\n",
      "\n",
      "-----Checking for the Goal 2------\n",
      "\n",
      "\n",
      "\n",
      "\n",
      "--------Checking For the Combinations with length 1.--------\n",
      "\n",
      "\n"
     ]
    },
    {
     "name": "stderr",
     "output_type": "stream",
     "text": [
      " 75%|███████████████████████████████████████████████████████████████                     | 3/4 [00:05<00:01,  1.75s/it]\n"
     ]
    },
    {
     "name": "stdout",
     "output_type": "stream",
     "text": [
      "Benchmark probability not reached\n",
      "\n",
      "\n",
      "--------Checking For the Combinations with length 2.--------\n",
      "\n",
      "\n"
     ]
    },
    {
     "name": "stderr",
     "output_type": "stream",
     "text": [
      " 83%|██████████████████████████████████████████████████████████████████████              | 5/6 [00:14<00:02,  2.93s/it]\n"
     ]
    },
    {
     "name": "stdout",
     "output_type": "stream",
     "text": [
      "Benchmark probability not reached\n",
      "\n",
      "\n",
      "--------Checking For the Combinations with length 3.--------\n",
      "\n",
      "\n"
     ]
    },
    {
     "name": "stderr",
     "output_type": "stream",
     "text": [
      " 75%|███████████████████████████████████████████████████████████████                     | 3/4 [00:12<00:04,  4.09s/it]\n"
     ]
    },
    {
     "name": "stdout",
     "output_type": "stream",
     "text": [
      "Benchmark probability not reached\n",
      "\n",
      "\n",
      "--------Checking For the Combinations with length 4.--------\n",
      "\n",
      "\n"
     ]
    },
    {
     "name": "stderr",
     "output_type": "stream",
     "text": [
      "  0%|                                                                                            | 0/1 [00:00<?, ?it/s]\n"
     ]
    },
    {
     "name": "stdout",
     "output_type": "stream",
     "text": [
      "Benchmark probability not reached\n",
      "\n",
      "\n",
      "-----Checking for the Goal 3------\n",
      "\n",
      "\n",
      "\n",
      "\n",
      "--------Checking For the Combinations with length 1.--------\n",
      "\n",
      "\n"
     ]
    },
    {
     "name": "stderr",
     "output_type": "stream",
     "text": [
      " 75%|███████████████████████████████████████████████████████████████                     | 3/4 [00:07<00:02,  2.44s/it]\n"
     ]
    },
    {
     "name": "stdout",
     "output_type": "stream",
     "text": [
      "Benchmark probability not reached\n",
      "\n",
      "\n",
      "--------Checking For the Combinations with length 2.--------\n",
      "\n",
      "\n"
     ]
    },
    {
     "name": "stderr",
     "output_type": "stream",
     "text": [
      " 83%|██████████████████████████████████████████████████████████████████████              | 5/6 [00:20<00:04,  4.14s/it]\n"
     ]
    },
    {
     "name": "stdout",
     "output_type": "stream",
     "text": [
      "Benchmark probability not reached\n",
      "\n",
      "\n",
      "--------Checking For the Combinations with length 3.--------\n",
      "\n",
      "\n"
     ]
    },
    {
     "name": "stderr",
     "output_type": "stream",
     "text": [
      " 75%|███████████████████████████████████████████████████████████████                     | 3/4 [00:16<00:05,  5.35s/it]\n"
     ]
    },
    {
     "name": "stdout",
     "output_type": "stream",
     "text": [
      "Benchmark probability not reached\n",
      "\n",
      "\n",
      "--------Checking For the Combinations with length 4.--------\n",
      "\n",
      "\n"
     ]
    },
    {
     "name": "stderr",
     "output_type": "stream",
     "text": [
      "  0%|                                                                                            | 0/1 [00:00<?, ?it/s]"
     ]
    },
    {
     "name": "stdout",
     "output_type": "stream",
     "text": [
      "Benchmark probability not reached\n"
     ]
    },
    {
     "name": "stderr",
     "output_type": "stream",
     "text": [
      "\n"
     ]
    }
   ],
   "source": [
    "alignment_dict = service_alignment(goals,goals_service_sim,service_list)"
   ]
  },
  {
   "cell_type": "code",
   "execution_count": 60,
   "id": "0be2aa24",
   "metadata": {},
   "outputs": [],
   "source": [
    "strategy_service_alignment = {}\n",
    "for (key,value) in alignment_dict.items():\n",
    "    \n",
    "    goal = goals[int(key[-1])]\n",
    "    services = [i[0] for i in value[0]]\n",
    "    \n",
    "    postconditions = ''\n",
    "    \n",
    "    for i in services:\n",
    "        \n",
    "        postconditions += service_list[i].description \n",
    "        postconditions += '. '\n",
    "        \n",
    "    probability = value[-1]\n",
    "    \n",
    "    aligned_services = [service_list[i].name for i in services]\n",
    "    \n",
    "    strategy_service_alignment[key] = {'Goal': goal,\n",
    "                                       'Number of Services': len(aligned_services),\n",
    "                                       'Aligned_services': aligned_services,\n",
    "                                       'Postconditions' : postconditions,\n",
    "                                       'Max_probability': probability}\n",
    "    "
   ]
  },
  {
   "cell_type": "code",
   "execution_count": 61,
   "id": "851d2d5a",
   "metadata": {},
   "outputs": [
    {
     "data": {
      "text/plain": [
       "{'Goal0': {'Goal': 'Establish the customer at the centre of all programs and initiatives across the NSW Government',\n",
       "  'Number of Services': 4,\n",
       "  'Aligned_services': ['Knowledge Management',\n",
       "   'Release Management',\n",
       "   'Asset and Configuration Management',\n",
       "   'Request Fulfilment'],\n",
       "  'Postconditions': '  Knowledge  Management  is  for  creating  and  maintaining  a  shared  knowledge  base  relating  to  the  managed  components  documentation  and  all  related  configuration  items. Release  Management  is  the  process  of  governing  and  ensuring  the  planning  building  and  controlling  of  approved  releases  through  testing  and  preproduction  environments  Releases  include  firmware  and  software  updates  to  Supplier  environments  and  equipment  to  maintain  supportability  provide  bug  and  security  fixes  and  to  provide  new  capability. The  Asset  and  Configuration  Management  process  is  for  the  maintenance  of  information  regarding  all  managed  components  their  attributes  and  their  relationship  to  other  configuration  items. Request  Fulfilment  provides  management  and  resolution  of  Service  Requests  generated  by  the  Eligible  Customer  A  Service  Request  is  a  generic  description  for  varying  types  of  user  requests  eg  activate  or  deactivate  a  service  move  a  service  modify  a  service  parameter  issue  a  replacement  SIM  for  a  mobile  user  or  change  the  content  or  format  of  an  existing  report  asset  configuration  information                      Change  ManagementThe  Change  Management  process  is  for  controlling  the  Suppliers  lifecycle  of  change  to  all  managed  services  the  underlying  components  documentation  and  configuration  items  specified  within  these  services. ',\n",
       "  'Max_probability': 18.52780282497406},\n",
       " 'Goal1': {'Goal': 'Deliver a more consistent and efficient digital experience with government.',\n",
       "  'Number of Services': 2,\n",
       "  'Aligned_services': ['Information Security Management',\n",
       "   'Release Management'],\n",
       "  'Postconditions': 'Information  Security  Management  aims  to  ensure  the  confidentiality  integrity  and  availability  of  an  organisations  information  data  and  services                      Service  level  ManagementThe  Service  Level  Management  process  is  a  constant  cycle  of  monitoring  reviewing  and  reporting  on  service  achievements  and  instigating  actions  to  eradicate  poor  performance  or  improve  current  Service  Levels. Release  Management  is  the  process  of  governing  and  ensuring  the  planning  building  and  controlling  of  approved  releases  through  testing  and  preproduction  environments  Releases  include  firmware  and  software  updates  to  Supplier  environments  and  equipment  to  maintain  supportability  provide  bug  and  security  fixes  and  to  provide  new  capability. ',\n",
       "  'Max_probability': 5.647001415491104},\n",
       " 'Goal2': {'Goal': 'Use data and behavioural insights to drive customer service improvements.',\n",
       "  'Number of Services': 2,\n",
       "  'Aligned_services': ['Capacity Management', 'Incident Management'],\n",
       "  'Postconditions': 'Capacity  Management  is  for  understanding  the  Eligible  Customers  businesss  working  patterns  such  that  the  capacity  and  performance  service  levels  are  met  by  the  services  and  reported  on. Incident  Management  provides  the  management  and  resolution  of  service  faultsIncidents  include  unplanned  service  interruptions  reduction  in  service  quality  or  service  performance  outside  of  the    service  specification  as  defined  in  the  Service  Requirements. ',\n",
       "  'Max_probability': 50.61250329017639},\n",
       " 'Goal3': {'Goal': 'Engage more effectively with the people of New South Wales.',\n",
       "  'Number of Services': 3,\n",
       "  'Aligned_services': ['Request Fulfilment',\n",
       "   'Availability Management',\n",
       "   'Release Management'],\n",
       "  'Postconditions': 'Request  Fulfilment  provides  management  and  resolution  of  Service  Requests  generated  by  the  Eligible  Customer  A  Service  Request  is  a  generic  description  for  varying  types  of  user  requests  eg  activate  or  deactivate  a  service  move  a  service  modify  a  service  parameter  issue  a  replacement  SIM  for  a  mobile  user  or  change  the  content  or  format  of  an  existing  report  asset  configuration  information                      Change  ManagementThe  Change  Management  process  is  for  controlling  the  Suppliers  lifecycle  of  change  to  all  managed  services  the  underlying  components  documentation  and  configuration  items  specified  within  these  services. The  Availability  Management  process  exists  to  ensure  that  the  availability  target  for  services  are  met  or  exceeded  by  measuring  analysing  service  performance  and  improving  aspects  of  service  provision. Release  Management  is  the  process  of  governing  and  ensuring  the  planning  building  and  controlling  of  approved  releases  through  testing  and  preproduction  environments  Releases  include  firmware  and  software  updates  to  Supplier  environments  and  equipment  to  maintain  supportability  provide  bug  and  security  fixes  and  to  provide  new  capability. ',\n",
       "  'Max_probability': 28.770849108695984}}"
      ]
     },
     "execution_count": 61,
     "metadata": {},
     "output_type": "execute_result"
    }
   ],
   "source": [
    "strategy_service_alignment"
   ]
  },
  {
   "cell_type": "code",
   "execution_count": 63,
   "id": "e109a593",
   "metadata": {},
   "outputs": [
    {
     "data": {
      "text/plain": [
       "67"
      ]
     },
     "execution_count": 63,
     "metadata": {},
     "output_type": "execute_result"
    }
   ],
   "source": [
    "ord('C')"
   ]
  },
  {
   "cell_type": "code",
   "execution_count": null,
   "id": "647e4af3",
   "metadata": {},
   "outputs": [],
   "source": []
  }
 ],
 "metadata": {
  "kernelspec": {
   "display_name": "Python 3",
   "language": "python",
   "name": "python3"
  },
  "language_info": {
   "codemirror_mode": {
    "name": "ipython",
    "version": 3
   },
   "file_extension": ".py",
   "mimetype": "text/x-python",
   "name": "python",
   "nbconvert_exporter": "python",
   "pygments_lexer": "ipython3",
   "version": "3.7.4"
  }
 },
 "nbformat": 4,
 "nbformat_minor": 5
}
